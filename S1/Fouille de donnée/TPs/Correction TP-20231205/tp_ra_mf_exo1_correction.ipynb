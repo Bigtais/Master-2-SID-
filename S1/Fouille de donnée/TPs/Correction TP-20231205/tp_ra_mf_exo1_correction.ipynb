{
 "cells": [
  {
   "cell_type": "markdown",
   "id": "31a18940",
   "metadata": {},
   "source": [
    "# TP Règles d'associations et motifs fréquents (correction)"
   ]
  },
  {
   "cell_type": "code",
   "execution_count": 1,
   "id": "2c76ff6f",
   "metadata": {},
   "outputs": [],
   "source": [
    "import pandas as pd\n",
    "import numpy as np\n",
    "from mlxtend.frequent_patterns import apriori\n",
    "from mlxtend.frequent_patterns import association_rules"
   ]
  },
  {
   "cell_type": "markdown",
   "id": "d2df73c2",
   "metadata": {},
   "source": [
    "## Exercice 1. Analyse du ticket de caisse"
   ]
  },
  {
   "cell_type": "markdown",
   "id": "7e8263ab",
   "metadata": {},
   "source": [
    "### 1. Chargement des données"
   ]
  },
  {
   "cell_type": "markdown",
   "id": "23be69c1",
   "metadata": {},
   "source": [
    "Les données que nous allons utiliser sont déjà préparées (fichier \"market-basket.csv\").\n",
    "\n",
    "Chaque ligne correspond à une transaction (i.e., un panier/ticket) et chaque colonne à un item (i.e., un produit). Un \"1\" (ou \"True\") code la présence d’un item (i.e., produit acheté), un \"0\" ou \"False\" son absence (i.e., produit non acheté)."
   ]
  },
  {
   "cell_type": "code",
   "execution_count": 2,
   "id": "4f7f3791",
   "metadata": {},
   "outputs": [
    {
     "name": "stdout",
     "output_type": "stream",
     "text": [
      "(1360, 303)\n",
      "Index(['100_Watt_Lightbulb', '2pct_Milk', '40_Watt_Lightbulb',\n",
      "       '60_Watt_Lightbulb', '75_Watt_Lightbulb', '98pct_Fat_Free_Hamburger',\n",
      "       'AA_Cell_Batteries', 'Apple_Cinnamon_Waffles', 'Apple_Drink',\n",
      "       'Apple_Fruit_Roll',\n",
      "       ...\n",
      "       'White_Bread', 'White_Wine', 'White_Zinfandel_Wine', 'Whole_Corn',\n",
      "       'Whole_Green_Beans', 'Whole_Milk', 'Window_Cleaner', 'Wood_Polish',\n",
      "       'flav_Fruit_Bars', 'flav_Ice'],\n",
      "      dtype='object', length=303)\n"
     ]
    }
   ],
   "source": [
    "dataset = pd.read_csv('market_basket.csv', header=0)\n",
    "print(dataset.shape)\n",
    "print(dataset.columns)"
   ]
  },
  {
   "cell_type": "code",
   "execution_count": 3,
   "id": "e9ea1e80",
   "metadata": {},
   "outputs": [],
   "source": [
    "# transformation en valeurs booléennes (étape non obligatoire mais recommandée par MLxtend)\n",
    "for col in dataset.columns:\n",
    "    dataset[col] = dataset[col].map({1 : True, 0 : False})\n",
    "    dataset[col].astype(\"boolean\")"
   ]
  },
  {
   "cell_type": "markdown",
   "id": "c0bf6d55",
   "metadata": {},
   "source": [
    "### 2. Extraction des motifs fréquents"
   ]
  },
  {
   "cell_type": "markdown",
   "id": "f1212b18",
   "metadata": {},
   "source": [
    "Pour extraire les motifs fréquents, nous utilisons apriori() sur les données chargées précédemment, avec un support minimum (min_support) fixé à 0,025 (i.e., 2,5%, soit 34 transactions), une cardinalité max (max_len) pour un motif fixée à 4 items et une utilisation des noms d’item (use_colnames) à vrai.\n",
    "\n",
    "Nous remarquons que les résultats (l’ensemble des motifs fréquents) sont stockés dans un DataFrame et qu’un motif est stockée dans une Serie. \n",
    "\n",
    "Pour chaque motif, nous avons la valeur de son support en relatif (%) et les items qu’il contient. \n",
    "\n",
    "Notons que les items sont stockés dans un frozenset, i.e., un ensemble non modifiable (non-mutable)."
   ]
  },
  {
   "cell_type": "code",
   "execution_count": 4,
   "id": "a8934ace",
   "metadata": {},
   "outputs": [],
   "source": [
    "taillemax = 4\n",
    "freq_itemsets = apriori(dataset, min_support=0.025, max_len=taillemax, use_colnames=True, verbose=0)"
   ]
  },
  {
   "cell_type": "code",
   "execution_count": 5,
   "id": "3c63bc09",
   "metadata": {},
   "outputs": [
    {
     "data": {
      "text/plain": [
       "pandas.core.frame.DataFrame"
      ]
     },
     "execution_count": 5,
     "metadata": {},
     "output_type": "execute_result"
    }
   ],
   "source": [
    "# type du résultat\n",
    "type(freq_itemsets)"
   ]
  },
  {
   "cell_type": "code",
   "execution_count": 6,
   "id": "cf20c619",
   "metadata": {},
   "outputs": [
    {
     "name": "stdout",
     "output_type": "stream",
     "text": [
      "(603, 2)\n"
     ]
    }
   ],
   "source": [
    "# nombre de motifs obtenus\n",
    "print(freq_itemsets.shape)"
   ]
  },
  {
   "cell_type": "code",
   "execution_count": 7,
   "id": "c9c88e4b",
   "metadata": {},
   "outputs": [
    {
     "name": "stdout",
     "output_type": "stream",
     "text": [
      "Index(['support', 'itemsets'], dtype='object')\n"
     ]
    }
   ],
   "source": [
    "# liste des colonnes\n",
    "print(freq_itemsets.columns)"
   ]
  },
  {
   "cell_type": "code",
   "execution_count": 8,
   "id": "db1a0a81",
   "metadata": {},
   "outputs": [
    {
     "name": "stdout",
     "output_type": "stream",
     "text": [
      "     support                    itemsets\n",
      "0   0.030147        (100_Watt_Lightbulb)\n",
      "1   0.109559                 (2pct_Milk)\n",
      "2   0.037500         (60_Watt_Lightbulb)\n",
      "3   0.031618         (75_Watt_Lightbulb)\n",
      "4   0.093382  (98pct_Fat_Free_Hamburger)\n",
      "5   0.031618         (AA_Cell_Batteries)\n",
      "6   0.025735    (Apple_Cinnamon_Waffles)\n",
      "7   0.026471               (Apple_Drink)\n",
      "8   0.031618          (Apple_Fruit_Roll)\n",
      "9   0.032353                 (Apple_Jam)\n",
      "10  0.033088               (Apple_Jelly)\n",
      "11  0.032353               (Apple_Sauce)\n",
      "12  0.053676                    (Apples)\n",
      "13  0.066912                   (Aspirin)\n",
      "14  0.027941               (Avocado_Dip)\n"
     ]
    }
   ],
   "source": [
    "# affichage des 15 premiers motifs\n",
    "print(freq_itemsets.head(15))"
   ]
  },
  {
   "cell_type": "code",
   "execution_count": 9,
   "id": "e06ab17f",
   "metadata": {},
   "outputs": [
    {
     "name": "stdout",
     "output_type": "stream",
     "text": [
      "<class 'pandas.core.series.Series'>\n"
     ]
    }
   ],
   "source": [
    "# type de la colonne ’itemsets’\n",
    "print(type(freq_itemsets.itemsets))"
   ]
  },
  {
   "cell_type": "code",
   "execution_count": 10,
   "id": "626fdff2",
   "metadata": {},
   "outputs": [
    {
     "name": "stdout",
     "output_type": "stream",
     "text": [
      "frozenset({'100_Watt_Lightbulb'})\n"
     ]
    }
   ],
   "source": [
    "# affichage du premier élément\n",
    "print(freq_itemsets.itemsets[0])"
   ]
  },
  {
   "cell_type": "markdown",
   "id": "bf04978e",
   "metadata": {},
   "source": [
    "### 3. Génération des règles d’association"
   ]
  },
  {
   "cell_type": "markdown",
   "id": "1e70bfc3",
   "metadata": {},
   "source": [
    "Afin de produire les règles d’association, il faut utiliser association_rules(). Nous allons choisir la mesure (metric) de la confiance et fixer le seuil minimal (min_threshold) à 0,75 (i.e., 75%).\n",
    "\n",
    "Les règles obtenues sont stockées dans un DataFrame. Pour chaque règle, nous avons l’antécédent, le conséquent, le support de la règle, la confiance, le lift, le leverage et la conviction. Nous avons aussi le support de l’antécédent et celui du conséquent."
   ]
  },
  {
   "cell_type": "code",
   "execution_count": 11,
   "id": "a68eb461",
   "metadata": {},
   "outputs": [],
   "source": [
    "arules = association_rules(freq_itemsets, metric=\"confidence\", min_threshold=0.7)"
   ]
  },
  {
   "cell_type": "code",
   "execution_count": 12,
   "id": "c005ec0d",
   "metadata": {},
   "outputs": [
    {
     "name": "stdout",
     "output_type": "stream",
     "text": [
      "<class 'pandas.core.frame.DataFrame'>\n"
     ]
    }
   ],
   "source": [
    "# type du résultat\n",
    "print(type(arules))"
   ]
  },
  {
   "cell_type": "code",
   "execution_count": 13,
   "id": "86b1965a",
   "metadata": {},
   "outputs": [
    {
     "name": "stdout",
     "output_type": "stream",
     "text": [
      "(105, 10)\n"
     ]
    }
   ],
   "source": [
    "# nombre de règles générées\n",
    "print(arules.shape)"
   ]
  },
  {
   "cell_type": "code",
   "execution_count": 14,
   "id": "5a51544f",
   "metadata": {},
   "outputs": [
    {
     "name": "stdout",
     "output_type": "stream",
     "text": [
      "Index(['antecedents', 'consequents', 'antecedent support',\n",
      "       'consequent support', 'support', 'confidence', 'lift', 'leverage',\n",
      "       'conviction', 'zhangs_metric'],\n",
      "      dtype='object')\n"
     ]
    }
   ],
   "source": [
    "# liste des colonnes\n",
    "print(arules.columns)"
   ]
  },
  {
   "cell_type": "code",
   "execution_count": 15,
   "id": "121b8e1a",
   "metadata": {},
   "outputs": [
    {
     "name": "stdout",
     "output_type": "stream",
     "text": [
      "                             antecedents     consequents  antecedent support  \\\n",
      "0                         (Hot_Dog_Buns)      (Hot_Dogs)            0.058824   \n",
      "1  (2pct_Milk, 98pct_Fat_Free_Hamburger)          (Eggs)            0.038235   \n",
      "2  (2pct_Milk, 98pct_Fat_Free_Hamburger)  (Potato_Chips)            0.038235   \n",
      "3                   (Aspirin, 2pct_Milk)          (Eggs)            0.034559   \n",
      "4                   (Aspirin, 2pct_Milk)  (Potato_Chips)            0.034559   \n",
      "\n",
      "   consequent support   support  confidence      lift  leverage  conviction  \\\n",
      "0            0.092647  0.041912    0.712500  7.690476  0.036462    3.156010   \n",
      "1            0.122794  0.027206    0.711538  5.794565  0.022511    3.040980   \n",
      "2            0.097794  0.027206    0.711538  7.275882  0.023467    3.127647   \n",
      "3            0.122794  0.025735    0.744681  6.064467  0.021492    3.435723   \n",
      "4            0.097794  0.025000    0.723404  7.397216  0.021620    3.261821   \n",
      "\n",
      "   zhangs_metric  \n",
      "0       0.924342  \n",
      "1       0.860319  \n",
      "2       0.896851  \n",
      "3       0.864998  \n",
      "4       0.895771  \n"
     ]
    }
   ],
   "source": [
    "# affichage des 5 premières règles du résultat\n",
    "print(arules.iloc[:5,:])"
   ]
  },
  {
   "cell_type": "markdown",
   "id": "faa6d29b",
   "metadata": {},
   "source": [
    "### 4. Post-traitement des règles découvertes"
   ]
  },
  {
   "cell_type": "markdown",
   "id": "c645f353",
   "metadata": {},
   "source": [
    "A présent, nous allons trier les règles selon une mesure, filtrer les règles selon une mesure, et sélectionner des règles en fonction de la présence de certains items dans l’antécédent et le conséquent."
   ]
  },
  {
   "cell_type": "code",
   "execution_count": 16,
   "id": "b9cb4b05",
   "metadata": {},
   "outputs": [],
   "source": [
    "# pour un affichage plus lisible\n",
    "pd.set_option('display.max_columns', 6)\n",
    "pd.set_option('display.max_rows', 10)\n",
    "pd.set_option('display.precision', 3)"
   ]
  },
  {
   "cell_type": "code",
   "execution_count": 17,
   "id": "b7ea2177",
   "metadata": {},
   "outputs": [
    {
     "name": "stdout",
     "output_type": "stream",
     "text": [
      "(105, 4)\n"
     ]
    }
   ],
   "source": [
    "# sélection des colonnes à afficher\n",
    "my_rules = arules.loc[:,['antecedents', 'consequents', 'lift', 'conviction']]\n",
    "print(my_rules.shape)"
   ]
  },
  {
   "cell_type": "code",
   "execution_count": 19,
   "id": "bb6b7b2a",
   "metadata": {},
   "outputs": [
    {
     "name": "stdout",
     "output_type": "stream",
     "text": [
      "                             antecedents     consequents   lift  conviction\n",
      "0                         (Hot_Dog_Buns)      (Hot_Dogs)  7.690       3.156\n",
      "1  (2pct_Milk, 98pct_Fat_Free_Hamburger)          (Eggs)  5.795       3.041\n",
      "2  (2pct_Milk, 98pct_Fat_Free_Hamburger)  (Potato_Chips)  7.276       3.128\n",
      "3                   (Aspirin, 2pct_Milk)          (Eggs)  6.064       3.436\n",
      "4                   (Aspirin, 2pct_Milk)  (Potato_Chips)  7.397       3.262\n",
      "5                   (Aspirin, 2pct_Milk)   (White_Bread)  6.609       4.140\n",
      "6                 (White_Bread, Bananas)     (2pct_Milk)  7.261       4.353\n",
      "7                   (2pct_Milk, Bananas)   (White_Bread)  6.833       4.735\n",
      "8                           (Eggs, Cola)     (2pct_Milk)  6.638       3.265\n",
      "9                      (Cola, 2pct_Milk)          (Eggs)  5.923       3.216\n"
     ]
    }
   ],
   "source": [
    "# affichage des 10 premières règles\n",
    "print(my_rules[:10])"
   ]
  },
  {
   "cell_type": "code",
   "execution_count": 20,
   "id": "2277620a",
   "metadata": {},
   "outputs": [
    {
     "name": "stdout",
     "output_type": "stream",
     "text": [
      "                                 antecedents     consequents   lift  \\\n",
      "0                             (Hot_Dog_Buns)      (Hot_Dogs)  7.690   \n",
      "2      (2pct_Milk, 98pct_Fat_Free_Hamburger)  (Potato_Chips)  7.276   \n",
      "4                       (Aspirin, 2pct_Milk)  (Potato_Chips)  7.397   \n",
      "6                     (White_Bread, Bananas)     (2pct_Milk)  7.261   \n",
      "11                       (Wheat_Bread, Cola)     (2pct_Milk)  7.261   \n",
      "..                                       ...             ...    ...   \n",
      "98           (Eggs, White_Bread, Toothpaste)     (2pct_Milk)  7.261   \n",
      "101   (Potato_Chips, White_Bread, 2pct_Milk)    (Toothpaste)  9.514   \n",
      "102  (Potato_Chips, White_Bread, Toothpaste)     (2pct_Milk)  7.569   \n",
      "103    (Potato_Chips, 2pct_Milk, Toothpaste)   (White_Bread)  7.319   \n",
      "104     (White_Bread, 2pct_Milk, Toothpaste)  (Potato_Chips)  7.726   \n",
      "\n",
      "     conviction  \n",
      "0         3.156  \n",
      "2         3.128  \n",
      "4         3.262  \n",
      "6         4.353  \n",
      "11        4.353  \n",
      "..          ...  \n",
      "98        4.353  \n",
      "101       3.766  \n",
      "102       5.215  \n",
      "103       6.871  \n",
      "104       3.691  \n",
      "\n",
      "[22 rows x 4 columns]\n"
     ]
    }
   ],
   "source": [
    "# affichage des règles avec un lift supérieur ou égal à 7\n",
    "print(my_rules[my_rules['lift'].ge(7.0)])"
   ]
  },
  {
   "cell_type": "code",
   "execution_count": 21,
   "id": "88e9567c",
   "metadata": {},
   "outputs": [
    {
     "name": "stdout",
     "output_type": "stream",
     "text": [
      "                                 antecedents                 consequents  \\\n",
      "101   (Potato_Chips, White_Bread, 2pct_Milk)                (Toothpaste)   \n",
      "78              (Sweet_Relish, Hot_Dog_Buns)                  (Hot_Dogs)   \n",
      "97            (Eggs, White_Bread, 2pct_Milk)                (Toothpaste)   \n",
      "79                  (Hot_Dog_Buns, Hot_Dogs)              (Sweet_Relish)   \n",
      "43             (White_Bread, Hamburger_Buns)  (98pct_Fat_Free_Hamburger)   \n",
      "104     (White_Bread, 2pct_Milk, Toothpaste)              (Potato_Chips)   \n",
      "0                             (Hot_Dog_Buns)                  (Hot_Dogs)   \n",
      "29                     (Onions, Wheat_Bread)                 (2pct_Milk)   \n",
      "102  (Potato_Chips, White_Bread, Toothpaste)                 (2pct_Milk)   \n",
      "45   (Wheat_Bread, 98pct_Fat_Free_Hamburger)               (White_Bread)   \n",
      "\n",
      "      lift  conviction  \n",
      "101  9.514       3.766  \n",
      "78   9.031       5.558  \n",
      "97   8.995       3.222  \n",
      "79   8.433       3.259  \n",
      "43   8.202       3.874  \n",
      "104  7.726       3.691  \n",
      "0    7.690       3.156  \n",
      "29   7.574       5.231  \n",
      "102  7.569       5.215  \n",
      "45   7.556       8.809  \n"
     ]
    }
   ],
   "source": [
    "# tri des règles selon le lift (ordre décroissant) et affichage des 10 meilleures règles\n",
    "print(my_rules.sort_values(by='lift', ascending=False)[:10])"
   ]
  },
  {
   "cell_type": "code",
   "execution_count": 22,
   "id": "af7815a4",
   "metadata": {},
   "outputs": [
    {
     "name": "stdout",
     "output_type": "stream",
     "text": [
      "                                antecedents consequents   lift  conviction\n",
      "1     (2pct_Milk, 98pct_Fat_Free_Hamburger)      (Eggs)  5.795       3.041\n",
      "3                      (Aspirin, 2pct_Milk)      (Eggs)  6.064       3.436\n",
      "9                         (Cola, 2pct_Milk)      (Eggs)  5.923       3.216\n",
      "14    (2pct_Milk, Pepperoni_Pizza_-_Frozen)      (Eggs)  6.064       3.436\n",
      "16                (2pct_Milk, Popcorn_Salt)      (Eggs)  6.696       4.934\n",
      "..                                      ...         ...    ...         ...\n",
      "70                  (White_Bread, Potatoes)      (Eggs)  5.897       3.180\n",
      "72             (Sugar_Cookies, White_Bread)      (Eggs)  6.277       3.828\n",
      "73               (Sweet_Relish, Toothpaste)      (Eggs)  5.749       2.983\n",
      "96   (Potato_Chips, White_Bread, 2pct_Milk)      (Eggs)  6.515       4.386\n",
      "100    (White_Bread, 2pct_Milk, Toothpaste)      (Eggs)  6.334       3.947\n",
      "\n",
      "[33 rows x 4 columns]\n"
     ]
    }
   ],
   "source": [
    "# affichage des règles contenant 'Eggs' dans le conséquent\n",
    "print(my_rules[my_rules['consequents'].ge({'Eggs'})])"
   ]
  },
  {
   "cell_type": "code",
   "execution_count": 23,
   "id": "f255f361",
   "metadata": {},
   "outputs": [
    {
     "name": "stdout",
     "output_type": "stream",
     "text": [
      "                                antecedents consequents   lift  conviction\n",
      "1     (2pct_Milk, 98pct_Fat_Free_Hamburger)      (Eggs)  5.795       3.041\n",
      "3                      (Aspirin, 2pct_Milk)      (Eggs)  6.064       3.436\n",
      "9                         (Cola, 2pct_Milk)      (Eggs)  5.923       3.216\n",
      "14    (2pct_Milk, Pepperoni_Pizza_-_Frozen)      (Eggs)  6.064       3.436\n",
      "16                (2pct_Milk, Popcorn_Salt)      (Eggs)  6.696       4.934\n",
      "..                                      ...         ...    ...         ...\n",
      "70                  (White_Bread, Potatoes)      (Eggs)  5.897       3.180\n",
      "72             (Sugar_Cookies, White_Bread)      (Eggs)  6.277       3.828\n",
      "73               (Sweet_Relish, Toothpaste)      (Eggs)  5.749       2.983\n",
      "96   (Potato_Chips, White_Bread, 2pct_Milk)      (Eggs)  6.515       4.386\n",
      "100    (White_Bread, 2pct_Milk, Toothpaste)      (Eggs)  6.334       3.947\n",
      "\n",
      "[33 rows x 4 columns]\n"
     ]
    }
   ],
   "source": [
    "# affichage des règles où le conséquent est exactement 'Eggs'\n",
    "print(my_rules[my_rules['consequents'].eq({'Eggs'})])"
   ]
  },
  {
   "cell_type": "code",
   "execution_count": 24,
   "id": "d144a6c2",
   "metadata": {},
   "outputs": [
    {
     "name": "stdout",
     "output_type": "stream",
     "text": [
      "                               antecedents consequents   lift  conviction\n",
      "16               (2pct_Milk, Popcorn_Salt)      (Eggs)  6.696       4.934\n",
      "62                (Popcorn_Salt, Potatoes)      (Eggs)  6.593       4.605\n",
      "96  (Potato_Chips, White_Bread, 2pct_Milk)      (Eggs)  6.515       4.386\n",
      "69                (Sweet_Relish, Potatoes)      (Eggs)  6.482       4.298\n",
      "21                   (2pct_Milk, Tomatoes)      (Eggs)  6.478       4.289\n",
      "..                                     ...         ...    ...         ...\n",
      "58                 (White_Bread, Hot_Dogs)      (Eggs)  5.775       3.015\n",
      "51                    (Potato_Chips, Cola)      (Eggs)  5.768       3.008\n",
      "73              (Sweet_Relish, Toothpaste)      (Eggs)  5.749       2.983\n",
      "47                  (White_Bread, Aspirin)      (Eggs)  5.715       2.941\n",
      "25                (White_Bread, 2pct_Milk)      (Eggs)  5.701       2.924\n",
      "\n",
      "[33 rows x 4 columns]\n"
     ]
    }
   ],
   "source": [
    "# idem mais en triant selon le lift (ordre décroissant)\n",
    "print(my_rules[my_rules['consequents'].eq({'Eggs'})].sort_values(by='lift', ascending=False))"
   ]
  },
  {
   "cell_type": "code",
   "execution_count": 25,
   "id": "78d79da4",
   "metadata": {},
   "outputs": [
    {
     "name": "stdout",
     "output_type": "stream",
     "text": [
      "                                antecedents consequents   lift  conviction\n",
      "16                (2pct_Milk, Popcorn_Salt)      (Eggs)  6.696       4.934\n",
      "96   (Potato_Chips, White_Bread, 2pct_Milk)      (Eggs)  6.515       4.386\n",
      "21                    (2pct_Milk, Tomatoes)      (Eggs)  6.478       4.289\n",
      "100    (White_Bread, 2pct_Milk, Toothpaste)      (Eggs)  6.334       3.947\n",
      "17                (Potato_Chips, 2pct_Milk)      (Eggs)  6.141       3.567\n",
      "..                                      ...         ...    ...         ...\n",
      "24                 (Wheat_Bread, 2pct_Milk)      (Eggs)  5.897       3.180\n",
      "19                (Sweet_Relish, 2pct_Milk)      (Eggs)  5.817       3.070\n",
      "22                  (2pct_Milk, Toothpaste)      (Eggs)  5.797       3.044\n",
      "1     (2pct_Milk, 98pct_Fat_Free_Hamburger)      (Eggs)  5.795       3.041\n",
      "25                 (White_Bread, 2pct_Milk)      (Eggs)  5.701       2.924\n",
      "\n",
      "[14 rows x 4 columns]\n"
     ]
    }
   ],
   "source": [
    "# affichage des règles avec '2pct_Milk' contenu dans l’antécédent et 'Eggs' correspondant au conséquent\n",
    "print(my_rules[my_rules['antecedents'].ge({'2pct_Milk'}) & my_rules['consequents'].eq({'Eggs'})]\n",
    "      .sort_values(by='lift', ascending=False))"
   ]
  },
  {
   "cell_type": "markdown",
   "id": "c16ccf03",
   "metadata": {},
   "source": [
    "### 5. À vous de jouer"
   ]
  },
  {
   "cell_type": "markdown",
   "id": "a7cd50e0",
   "metadata": {},
   "source": [
    "Les règles que nous avons ne sont pas vraiment très intéressantes. La valeur du support minimum est peut-être trop élevée.\n",
    "\n",
    "Déterminez les règles d’association avec cette fois minsup=0,015 et minconf=0,7 (la cardinalité max reste fixée à 4). On a alors 4 759 motifs et 3 265 règles.\n",
    "\n",
    "Trouvez quelques règles qui vous semblent intéressantes."
   ]
  },
  {
   "cell_type": "code",
   "execution_count": 26,
   "id": "b3119d62",
   "metadata": {},
   "outputs": [
    {
     "name": "stdout",
     "output_type": "stream",
     "text": [
      "(4759, 2)\n",
      "    support                    itemsets\n",
      "0     0.030        (100_Watt_Lightbulb)\n",
      "1     0.110                 (2pct_Milk)\n",
      "2     0.037         (60_Watt_Lightbulb)\n",
      "3     0.032         (75_Watt_Lightbulb)\n",
      "4     0.093  (98pct_Fat_Free_Hamburger)\n",
      "..      ...                         ...\n",
      "10    0.033               (Apple_Jelly)\n",
      "11    0.024               (Apple_Juice)\n",
      "12    0.032               (Apple_Sauce)\n",
      "13    0.054                    (Apples)\n",
      "14    0.067                   (Aspirin)\n",
      "\n",
      "[15 rows x 2 columns]\n"
     ]
    }
   ],
   "source": [
    "taillemax = 4\n",
    "freq_itemsets = apriori(dataset, min_support=0.015, max_len=taillemax, use_colnames=True, verbose=0)\n",
    "print(freq_itemsets.shape)\n",
    "print(freq_itemsets.head(15))"
   ]
  },
  {
   "cell_type": "code",
   "execution_count": 30,
   "id": "efbcf71d",
   "metadata": {},
   "outputs": [
    {
     "name": "stdout",
     "output_type": "stream",
     "text": [
      "(3265, 10)\n"
     ]
    }
   ],
   "source": [
    "arules = association_rules(freq_itemsets, metric=\"confidence\", min_threshold=0.7)\n",
    "print(arules.shape)"
   ]
  },
  {
   "cell_type": "markdown",
   "id": "39c2143b",
   "metadata": {},
   "source": [
    "Il y a beaucoup de règles, essayons avec minconf=0.9 (90%)"
   ]
  },
  {
   "cell_type": "code",
   "execution_count": 35,
   "id": "b6ad6cf0",
   "metadata": {},
   "outputs": [
    {
     "name": "stdout",
     "output_type": "stream",
     "text": [
      "(154, 10)\n"
     ]
    }
   ],
   "source": [
    "arules = association_rules(freq_itemsets, metric=\"confidence\", min_threshold=0.9)\n",
    "print(arules.shape)"
   ]
  },
  {
   "cell_type": "code",
   "execution_count": 36,
   "id": "e3b0b3ca",
   "metadata": {},
   "outputs": [
    {
     "name": "stdout",
     "output_type": "stream",
     "text": [
      "                   antecedents  consequents  antecedent support  ...  \\\n",
      "0   (Wheat_Bread, Apple_Jelly)  (2pct_Milk)                0.02  ...   \n",
      "1        (Corn_Oil, 2pct_Milk)       (Eggs)                0.02  ...   \n",
      "2  (Oranges, Hair_Conditioner)  (2pct_Milk)                0.02  ...   \n",
      "3       (Hot_Dogs, Trash_Bags)  (2pct_Milk)                0.02  ...   \n",
      "4    (White_Bread, Trash_Bags)  (2pct_Milk)                0.02  ...   \n",
      "\n",
      "   leverage  conviction  zhangs_metric  \n",
      "0      0.02       11.58           0.90  \n",
      "1      0.01       19.30           0.89  \n",
      "2      0.01       10.24           0.90  \n",
      "3      0.01       21.37           0.90  \n",
      "4      0.01       10.24           0.90  \n",
      "\n",
      "[5 rows x 10 columns]\n"
     ]
    }
   ],
   "source": [
    "print(arules.iloc[:5,:])"
   ]
  },
  {
   "cell_type": "code",
   "execution_count": 40,
   "id": "87a2c048",
   "metadata": {},
   "outputs": [
    {
     "name": "stdout",
     "output_type": "stream",
     "text": [
      "(154, 4)\n"
     ]
    }
   ],
   "source": [
    "my_rules = arules.loc[:,['antecedents', 'consequents', 'lift', 'conviction']]\n",
    "print(my_rules.shape)"
   ]
  },
  {
   "cell_type": "code",
   "execution_count": 41,
   "id": "b764fb34",
   "metadata": {},
   "outputs": [
    {
     "name": "stdout",
     "output_type": "stream",
     "text": [
      "                               antecedents    consequents  lift  conviction\n",
      "0               (Wheat_Bread, Apple_Jelly)    (2pct_Milk)  8.43       11.58\n",
      "1                    (Corn_Oil, 2pct_Milk)         (Eggs)  7.77       19.30\n",
      "2              (Oranges, Hair_Conditioner)    (2pct_Milk)  8.33       10.24\n",
      "3                   (Hot_Dogs, Trash_Bags)    (2pct_Milk)  8.75       21.37\n",
      "4                (White_Bread, Trash_Bags)    (2pct_Milk)  8.33       10.24\n",
      "5  (Wheat_Bread, 98pct_Fat_Free_Hamburger)  (White_Bread)  7.56        8.81\n",
      "6         (Apple_Fruit_Roll, Popcorn_Salt)         (Eggs)  8.14         inf\n",
      "7                   (Apples, Popcorn_Salt)  (White_Bread)  7.67       10.13\n",
      "8              (C_Cell_Batteries, Aspirin)  (White_Bread)  7.75       11.45\n",
      "9                (Aspirin, Cottage_Cheese)  (White_Bread)  7.67       10.13\n"
     ]
    }
   ],
   "source": [
    "pd.set_option('display.max_columns', 6)\n",
    "pd.set_option('display.max_rows', 10)\n",
    "pd.set_option('display.precision', 2)\n",
    "\n",
    "# affichage des 5 premières règles\n",
    "print(my_rules[:10])"
   ]
  },
  {
   "cell_type": "code",
   "execution_count": 42,
   "id": "a078b260",
   "metadata": {},
   "outputs": [
    {
     "name": "stdout",
     "output_type": "stream",
     "text": [
      "                                    antecedents    consequents   lift  \\\n",
      "0                    (Wheat_Bread, Apple_Jelly)    (2pct_Milk)   8.43   \n",
      "1                         (Corn_Oil, 2pct_Milk)         (Eggs)   7.77   \n",
      "2                   (Oranges, Hair_Conditioner)    (2pct_Milk)   8.33   \n",
      "3                        (Hot_Dogs, Trash_Bags)    (2pct_Milk)   8.75   \n",
      "4                     (White_Bread, Trash_Bags)    (2pct_Milk)   8.33   \n",
      "..                                          ...            ...    ...   \n",
      "149    (Potato_Chips, Toothpaste, Popcorn_Salt)  (White_Bread)   7.72   \n",
      "150    (Toilet_Paper, Toothpaste, Popcorn_Salt)  (White_Bread)   7.70   \n",
      "151     (Sugar_Cookies, Potato_Chips, Tomatoes)  (White_Bread)   7.72   \n",
      "152  (Sweet_Relish, Sugar_Cookies, White_Bread)   (Toothpaste)  11.50   \n",
      "153   (Sweet_Relish, Sugar_Cookies, Toothpaste)  (White_Bread)   7.67   \n",
      "\n",
      "     conviction  \n",
      "0         11.58  \n",
      "1         19.30  \n",
      "2         10.24  \n",
      "3         21.37  \n",
      "4         10.24  \n",
      "..          ...  \n",
      "149       11.01  \n",
      "150       10.57  \n",
      "151       11.01  \n",
      "152       10.59  \n",
      "153       10.13  \n",
      "\n",
      "[154 rows x 4 columns]\n"
     ]
    }
   ],
   "source": [
    "# affichage des règles avec un LIFT supérieur ou égal à 7\n",
    "print(my_rules[my_rules['lift'].ge(7.0)])"
   ]
  },
  {
   "cell_type": "code",
   "execution_count": 43,
   "id": "f743d27e",
   "metadata": {},
   "outputs": [
    {
     "name": "stdout",
     "output_type": "stream",
     "text": [
      "                                      antecedents     consequents   lift  \\\n",
      "152    (Sweet_Relish, Sugar_Cookies, White_Bread)    (Toothpaste)  11.50   \n",
      "145            (Hot_Dog_Buns, Hot_Dogs, Potatoes)  (Sweet_Relish)  10.70   \n",
      "15                    (Hot_Dog_Buns, Canned_Tuna)      (Hot_Dogs)   9.89   \n",
      "50                  (Apples, Onions, Wheat_Bread)     (2pct_Milk)   9.13   \n",
      "66            (White_Bread, Wheat_Bread, Bananas)     (2pct_Milk)   8.80   \n",
      "48                   (Eggs, Potato_Chips, Apples)     (2pct_Milk)   8.79   \n",
      "82   (Eggs, Pepperoni_Pizza_-_Frozen, Toothpaste)     (2pct_Milk)   8.78   \n",
      "99           (Onions, Wheat_Bread, Ramen_Noodles)     (2pct_Milk)   8.76   \n",
      "3                          (Hot_Dogs, Trash_Bags)     (2pct_Milk)   8.75   \n",
      "96   (Potato_Chips, Toothpaste, Hair_Conditioner)     (2pct_Milk)   8.73   \n",
      "\n",
      "     conviction  \n",
      "152       10.59  \n",
      "145       10.52  \n",
      "15        10.89  \n",
      "50          inf  \n",
      "66        24.93  \n",
      "48        24.04  \n",
      "82        23.15  \n",
      "99        22.26  \n",
      "3         21.37  \n",
      "96        20.48  \n"
     ]
    }
   ],
   "source": [
    "# tri des règles selon le lift (ordre décroissant) et affichage des 10 meilleures règles\n",
    "print(my_rules.sort_values(by='lift', ascending=False)[:10])"
   ]
  },
  {
   "cell_type": "code",
   "execution_count": 44,
   "id": "f96c02b6",
   "metadata": {},
   "outputs": [
    {
     "name": "stdout",
     "output_type": "stream",
     "text": [
      "                              antecedents    consequents  lift  conviction\n",
      "8             (C_Cell_Batteries, Aspirin)  (White_Bread)  7.75       11.45\n",
      "9               (Aspirin, Cottage_Cheese)  (White_Bread)  7.67       10.13\n",
      "10                      (Aspirin, Donuts)  (White_Bread)  8.03       20.26\n",
      "11                     (Tissues, Aspirin)         (Eggs)  7.77       19.30\n",
      "12                      (Garlic, Aspirin)  (White_Bread)  8.40         inf\n",
      "..                                    ...            ...   ...         ...\n",
      "116         (Eggs, Aspirin, Popcorn_Salt)  (White_Bread)  7.72       11.01\n",
      "117       (Potato_Chips, Onions, Aspirin)  (White_Bread)  7.72       11.01\n",
      "118        (Aspirin, Onions, Wheat_Bread)  (White_Bread)  7.67       10.13\n",
      "119  (Potato_Chips, Wheat_Bread, Aspirin)  (White_Bread)  7.72       11.01\n",
      "120      (Wheat_Bread, Aspirin, Potatoes)  (White_Bread)  7.70       10.57\n",
      "\n",
      "[17 rows x 4 columns]\n",
      "Empty DataFrame\n",
      "Columns: [antecedents, consequents, lift, conviction]\n",
      "Index: []\n",
      "                antecedents consequents  lift  conviction\n",
      "11       (Tissues, Aspirin)      (Eggs)  7.77        19.3\n",
      "33  (Sweet_Relish, Tissues)      (Eggs)  7.77        19.3\n"
     ]
    }
   ],
   "source": [
    "# filtrage des règles contenant 'Aspirin' dans l'antécédent\n",
    "print(my_rules[my_rules['antecedents'].ge({'Aspirin'})])\n",
    "print(my_rules[my_rules['antecedents'].ge({'Hamburger_Buns'})])\n",
    "print(my_rules[my_rules['antecedents'].ge({'Tissues'})])"
   ]
  },
  {
   "cell_type": "code",
   "execution_count": 45,
   "id": "ddf18960",
   "metadata": {},
   "outputs": [
    {
     "name": "stdout",
     "output_type": "stream",
     "text": [
      "                                           antecedents    consequents  lift  \\\n",
      "50                       (Apples, Onions, Wheat_Bread)    (2pct_Milk)  9.13   \n",
      "12                                   (Garlic, Aspirin)  (White_Bread)  8.40   \n",
      "6                     (Apple_Fruit_Roll, Popcorn_Salt)         (Eggs)  8.14   \n",
      "80   (Sweet_Relish, 2pct_Milk, Pepperoni_Pizza_-_Fr...         (Eggs)  8.14   \n",
      "84              (White_Bread, 2pct_Milk, Plain_Bagels)         (Eggs)  8.14   \n",
      "136                 (Sweet_Relish, Tomatoes, Potatoes)         (Eggs)  8.14   \n",
      "\n",
      "     conviction  \n",
      "50          inf  \n",
      "12          inf  \n",
      "6           inf  \n",
      "80          inf  \n",
      "84          inf  \n",
      "136         inf  \n"
     ]
    }
   ],
   "source": [
    "print(my_rules[my_rules['conviction'].ge(100000000)].sort_values(by='lift', ascending=False)[:10])"
   ]
  },
  {
   "cell_type": "code",
   "execution_count": 46,
   "id": "dadbd431",
   "metadata": {},
   "outputs": [
    {
     "name": "stdout",
     "output_type": "stream",
     "text": [
      "{frozenset({'Sweet_Relish'}), frozenset({'Toothpaste'}), frozenset({'2pct_Milk'}), frozenset({'Hot_Dogs'}), frozenset({'Eggs'}), frozenset({'White_Bread'})}\n"
     ]
    }
   ],
   "source": [
    "# conséquents des regles\n",
    "c = my_rules['consequents']\n",
    "mon_set = set()\n",
    "for i in c:\n",
    "    mon_set.add(i)\n",
    "print(mon_set)"
   ]
  },
  {
   "cell_type": "code",
   "execution_count": 47,
   "id": "412a5d87",
   "metadata": {},
   "outputs": [
    {
     "name": "stdout",
     "output_type": "stream",
     "text": [
      "\n",
      " Eggs\n",
      "                                 antecedents consequents  lift  conviction\n",
      "1                      (Corn_Oil, 2pct_Milk)      (Eggs)  7.77       19.30\n",
      "6           (Apple_Fruit_Roll, Popcorn_Salt)      (Eggs)  8.14         inf\n",
      "11                        (Tissues, Aspirin)      (Eggs)  7.77       19.30\n",
      "18                          (Corn_Oil, Cola)      (Eggs)  7.77       19.30\n",
      "19                      (Corn_Oil, Potatoes)      (Eggs)  7.77       19.30\n",
      "..                                       ...         ...   ...         ...\n",
      "133  (Potato_Chips, Sugar_Cookies, Tomatoes)      (Eggs)  7.49       10.97\n",
      "134       (Salsa_Dip, White_Bread, Potatoes)      (Eggs)  7.44       10.09\n",
      "136       (Sweet_Relish, Tomatoes, Potatoes)      (Eggs)  8.14         inf\n",
      "137    (Sugar_Cookies, Toothpaste, Tomatoes)      (Eggs)  7.52       11.40\n",
      "139   (Sugar_Cookies, White_Bread, Tomatoes)      (Eggs)  7.38        9.36\n",
      "\n",
      "[42 rows x 4 columns]\n",
      "\n",
      " White_Bread\n",
      "                                   antecedents    consequents  lift  \\\n",
      "5      (Wheat_Bread, 98pct_Fat_Free_Hamburger)  (White_Bread)  7.56   \n",
      "7                       (Apples, Popcorn_Salt)  (White_Bread)  7.67   \n",
      "8                  (C_Cell_Batteries, Aspirin)  (White_Bread)  7.75   \n",
      "9                    (Aspirin, Cottage_Cheese)  (White_Bread)  7.67   \n",
      "10                           (Aspirin, Donuts)  (White_Bread)  8.03   \n",
      "..                                         ...            ...   ...   \n",
      "148          (Sweet_Relish, Plums, Toothpaste)  (White_Bread)  7.67   \n",
      "149   (Potato_Chips, Toothpaste, Popcorn_Salt)  (White_Bread)  7.72   \n",
      "150   (Toilet_Paper, Toothpaste, Popcorn_Salt)  (White_Bread)  7.70   \n",
      "151    (Sugar_Cookies, Potato_Chips, Tomatoes)  (White_Bread)  7.72   \n",
      "153  (Sweet_Relish, Sugar_Cookies, Toothpaste)  (White_Bread)  7.67   \n",
      "\n",
      "     conviction  \n",
      "5          8.81  \n",
      "7         10.13  \n",
      "8         11.45  \n",
      "9         10.13  \n",
      "10        20.26  \n",
      "..          ...  \n",
      "148       10.13  \n",
      "149       11.01  \n",
      "150       10.57  \n",
      "151       11.01  \n",
      "153       10.13  \n",
      "\n",
      "[70 rows x 4 columns]\n",
      "\n",
      " 2pct_Milk\n",
      "                                      antecedents  consequents  lift  \\\n",
      "0                      (Wheat_Bread, Apple_Jelly)  (2pct_Milk)  8.43   \n",
      "2                     (Oranges, Hair_Conditioner)  (2pct_Milk)  8.33   \n",
      "3                          (Hot_Dogs, Trash_Bags)  (2pct_Milk)  8.75   \n",
      "4                       (White_Bread, Trash_Bags)  (2pct_Milk)  8.33   \n",
      "45                 (Apples, White_Bread, Bananas)  (2pct_Milk)  8.33   \n",
      "..                                            ...          ...   ...   \n",
      "90              (Eggs, Sandwich_Bags, Toothpaste)  (2pct_Milk)  8.33   \n",
      "96   (Potato_Chips, Toothpaste, Hair_Conditioner)  (2pct_Milk)  8.73   \n",
      "99           (Onions, Wheat_Bread, Ramen_Noodles)  (2pct_Milk)  8.76   \n",
      "101     (White_Bread, Wheat_Bread, Ramen_Noodles)  (2pct_Milk)  8.43   \n",
      "102           (Sweet_Relish, Ravioli, Toothpaste)  (2pct_Milk)  8.33   \n",
      "\n",
      "     conviction  \n",
      "0         11.58  \n",
      "2         10.24  \n",
      "3         21.37  \n",
      "4         10.24  \n",
      "45        10.24  \n",
      "..          ...  \n",
      "90        10.24  \n",
      "96        20.48  \n",
      "99        22.26  \n",
      "101       11.58  \n",
      "102       10.24  \n",
      "\n",
      "[39 rows x 4 columns]\n",
      "\n",
      " Toothpaste\n",
      "                                    antecedents   consequents  lift  \\\n",
      "152  (Sweet_Relish, Sugar_Cookies, White_Bread)  (Toothpaste)  11.5   \n",
      "\n",
      "     conviction  \n",
      "152       10.59  \n",
      "\n",
      " Sweet_Relish\n",
      "                            antecedents     consequents  lift  conviction\n",
      "145  (Hot_Dog_Buns, Hot_Dogs, Potatoes)  (Sweet_Relish)  10.7       10.52\n",
      "\n",
      " Hot_Dogs\n",
      "                    antecedents consequents  lift  conviction\n",
      "15  (Hot_Dog_Buns, Canned_Tuna)  (Hot_Dogs)  9.89       10.89\n"
     ]
    }
   ],
   "source": [
    "itemsconsequents = ['Pepperoni_Pizza_-_Frozen', 'Eggs', 'Tomatoes', 'Cola', 'White_Bread', 'Onions', \n",
    "                    '2pct_Milk', 'Wheat_Bread', 'Toothpaste', 'Toilet_Paper', 'Cola', 'Potato_Chips', \n",
    "                    'Sugar_Cookies', 'Bananas', 'Sweet_Relish', 'Aspirin', 'Popcorn_Salt', 'Cream_Cheese', \n",
    "                    'Hot_Dogs', '98pct_Fat_Free_Hamburger', 'Ramen_Noodles', 'Potatoes']\n",
    "\n",
    "for item in itemsconsequents:\n",
    "    regles_select = my_rules[my_rules['consequents'].ge({item})]\n",
    "    if regles_select.size > 0:\n",
    "        print(\"\\n\", item)\n",
    "        print(regles_select)"
   ]
  },
  {
   "cell_type": "markdown",
   "id": "63809c1b",
   "metadata": {},
   "source": [
    "**Certains items (2pct_Milk, white_Bread, ...) peuvent \"poller\" les résultats car ils correspondent à des produits achetés couramment. On pourrait filtrer les règles ou les enlever des données avant la découverte des règles.**"
   ]
  },
  {
   "cell_type": "code",
   "execution_count": 48,
   "id": "60c9a91c",
   "metadata": {},
   "outputs": [],
   "source": [
    "dataset2 = dataset.copy(deep=True)"
   ]
  },
  {
   "cell_type": "code",
   "execution_count": 49,
   "id": "d24b7ab9",
   "metadata": {},
   "outputs": [],
   "source": [
    "dataset2.drop(\"2pct_Milk\", axis=1, inplace=True)\n",
    "dataset2.drop(\"White_Bread\", axis=1, inplace=True)\n",
    "dataset2.drop(\"Wheat_Bread\", axis=1, inplace=True)\n",
    "dataset2.drop(\"Eggs\", axis=1, inplace=True)"
   ]
  },
  {
   "cell_type": "code",
   "execution_count": 50,
   "id": "3562cc44",
   "metadata": {},
   "outputs": [
    {
     "name": "stdout",
     "output_type": "stream",
     "text": [
      "(1933, 2)\n"
     ]
    }
   ],
   "source": [
    "taillemax = 4\n",
    "freq_itemsets2 = apriori(dataset2, min_support=0.015, max_len=taillemax, use_colnames=True, verbose=0)\n",
    "print(freq_itemsets2.shape)"
   ]
  },
  {
   "cell_type": "code",
   "execution_count": 51,
   "id": "734732b6",
   "metadata": {},
   "outputs": [
    {
     "name": "stdout",
     "output_type": "stream",
     "text": [
      "(38, 10)\n"
     ]
    }
   ],
   "source": [
    "arules2 = association_rules(freq_itemsets2, metric=\"confidence\", min_threshold=0.8)\n",
    "print(arules2.shape)"
   ]
  },
  {
   "cell_type": "code",
   "execution_count": 52,
   "id": "65be1ac4",
   "metadata": {},
   "outputs": [
    {
     "name": "stdout",
     "output_type": "stream",
     "text": [
      "                                     antecedents                 consequents  \\\n",
      "18               (Potato_Chips, Graham_Crackers)                (Toothpaste)   \n",
      "7                             (Apples, Hot_Dogs)                (Toothpaste)   \n",
      "34            (Hot_Dog_Buns, Hot_Dogs, Potatoes)              (Sweet_Relish)   \n",
      "5                              (Apples, Bananas)                (Toothpaste)   \n",
      "37              (Toothpaste, Hot_Dogs, Potatoes)              (Sweet_Relish)   \n",
      "27                       (Sweet_Relish, Ravioli)                (Toothpaste)   \n",
      "14                        (Cantaloupe, Tomatoes)                (Toothpaste)   \n",
      "29                (Sweet_Relish, Cola, Potatoes)                (Toothpaste)   \n",
      "12                   (Hot_Dog_Buns, Canned_Tuna)                  (Hot_Dogs)   \n",
      "36            (Toilet_Paper, Hot_Dogs, Potatoes)              (Sweet_Relish)   \n",
      "17                  (Sweet_Relish, French_Fries)                  (Potatoes)   \n",
      "13                        (Cantaloupe, Hot_Dogs)              (Sweet_Relish)   \n",
      "25                           (Plums, Toothpaste)              (Sweet_Relish)   \n",
      "32        (Cream_Cheese, Hot_Dog_Buns, Hot_Dogs)              (Sweet_Relish)   \n",
      "30                  (Cola, Toothpaste, Potatoes)              (Sweet_Relish)   \n",
      "15                          (Hot_Dog_Buns, Cola)                  (Hot_Dogs)   \n",
      "31    (Cream_Cheese, Hot_Dog_Buns, Sweet_Relish)                  (Hot_Dogs)   \n",
      "21                  (Toilet_Paper, Hot_Dog_Buns)                  (Hot_Dogs)   \n",
      "22                    (Sour_Cream, Sweet_Relish)                  (Hot_Dogs)   \n",
      "4                (Hamburger_Buns, Ramen_Noodles)  (98pct_Fat_Free_Hamburger)   \n",
      "33        (Sweet_Relish, Hot_Dog_Buns, Potatoes)                  (Hot_Dogs)   \n",
      "10                       (Hot_Dog_Buns, Aspirin)                  (Hot_Dogs)   \n",
      "16                  (Cream_Cheese, Hot_Dog_Buns)                  (Hot_Dogs)   \n",
      "20                  (Sweet_Relish, Hot_Dog_Buns)                  (Hot_Dogs)   \n",
      "6                          (Apples, Canned_Tuna)              (Potato_Chips)   \n",
      "23                      (Licorice, Popcorn_Salt)              (Potato_Chips)   \n",
      "2           (Corn_Oil, 98pct_Fat_Free_Hamburger)              (Potato_Chips)   \n",
      "35        (Toilet_Paper, Sweet_Relish, Potatoes)                  (Hot_Dogs)   \n",
      "19                  (Hot_Dog_Buns, Popcorn_Salt)                  (Hot_Dogs)   \n",
      "0   (98pct_Fat_Free_Hamburger, BBQ_Potato_Chips)              (Potato_Chips)   \n",
      "1                       (Corn_Oil, Potato_Chips)  (98pct_Fat_Free_Hamburger)   \n",
      "28               (Aspirin, Toothpaste, Potatoes)              (Potato_Chips)   \n",
      "11                            (Aspirin, Waffles)              (Potato_Chips)   \n",
      "3             (Garlic, 98pct_Fat_Free_Hamburger)              (Potato_Chips)   \n",
      "26                           (Waffles, Tomatoes)              (Potato_Chips)   \n",
      "9                        (French_Fries, Aspirin)              (Potato_Chips)   \n",
      "24                         (Plums, Popcorn_Salt)              (Potato_Chips)   \n",
      "8                        (Cream_Cheese, Aspirin)              (Potato_Chips)   \n",
      "\n",
      "     lift  \n",
      "18  11.02  \n",
      "7   10.79  \n",
      "34  10.70  \n",
      "5   10.66  \n",
      "37  10.37  \n",
      "27  10.34  \n",
      "14  10.17  \n",
      "29  10.17  \n",
      "12   9.89  \n",
      "36   9.85  \n",
      "17   9.82  \n",
      "13   9.70  \n",
      "25   9.63  \n",
      "32   9.47  \n",
      "30   9.47  \n",
      "15   9.44  \n",
      "31   9.44  \n",
      "21   9.25  \n",
      "22   9.19  \n",
      "4    9.12  \n",
      "33   9.07  \n",
      "10   9.07  \n",
      "16   9.05  \n",
      "20   9.03  \n",
      "6    9.00  \n",
      "23   8.95  \n",
      "2    8.95  \n",
      "35   8.72  \n",
      "19   8.72  \n",
      "0    8.65  \n",
      "1    8.65  \n",
      "28   8.59  \n",
      "11   8.59  \n",
      "3    8.58  \n",
      "26   8.40  \n",
      "9    8.33  \n",
      "24   8.26  \n",
      "8    8.26  \n"
     ]
    }
   ],
   "source": [
    "pd.set_option('display.max_rows', 50)\n",
    "my_rules2 = arules2.loc[:,['antecedents', 'consequents', 'lift']]\n",
    "print(my_rules2.sort_values(by='lift', ascending=False))"
   ]
  },
  {
   "cell_type": "markdown",
   "id": "1810401d",
   "metadata": {},
   "source": [
    "**Les données proviennent d'un magasin US et sans surprise on retrouve des produits tels que les hot dogs, popcorn, cola, etc. Avec des règles comme \"(Cream_Cheese, Hot_Dog_Buns, Hot_Dogs) -> (Sweet_Relish)\", nous pouvons suggérer au gérant du magasin de faire une promotion sur la sauce sweet_relish ou de mettre quelques exemplaires proche de cream_cheese ou de hot_dogs. On pourrait aussi avoir une promo sur l'achat de l'ensemble des items présents dans la règle. L'analyse des résultats peut même amener le gérant à réorganiser certains rayons.**"
   ]
  },
  {
   "cell_type": "markdown",
   "id": "4fd932d5",
   "metadata": {},
   "source": [
    "Remarque finale : ici on a analysé ce qui se vend bien ensemble, mais on pourrait aussi regarder ce qui ce vend moins bien et donc inciter les clients à les acheter via des promotions, par exemple."
   ]
  },
  {
   "cell_type": "code",
   "execution_count": null,
   "id": "340ab5ad",
   "metadata": {},
   "outputs": [],
   "source": []
  }
 ],
 "metadata": {
  "kernelspec": {
   "display_name": "Python 3 (ipykernel)",
   "language": "python",
   "name": "python3"
  },
  "language_info": {
   "codemirror_mode": {
    "name": "ipython",
    "version": 3
   },
   "file_extension": ".py",
   "mimetype": "text/x-python",
   "name": "python",
   "nbconvert_exporter": "python",
   "pygments_lexer": "ipython3",
   "version": "3.11.4"
  }
 },
 "nbformat": 4,
 "nbformat_minor": 5
}
