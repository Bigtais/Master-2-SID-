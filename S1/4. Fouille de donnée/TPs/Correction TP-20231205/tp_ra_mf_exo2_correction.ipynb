{
 "cells": [
  {
   "cell_type": "markdown",
   "id": "31a18940",
   "metadata": {},
   "source": [
    "# TP Règles d'associations et motifs fréquents (correction)"
   ]
  },
  {
   "cell_type": "code",
   "execution_count": 11,
   "id": "2c76ff6f",
   "metadata": {},
   "outputs": [],
   "source": [
    "import pandas as pd\n",
    "from mlxtend.preprocessing import TransactionEncoder\n",
    "from mlxtend.frequent_patterns import apriori\n",
    "from mlxtend.frequent_patterns import association_rules"
   ]
  },
  {
   "cell_type": "markdown",
   "id": "d2df73c2",
   "metadata": {},
   "source": [
    "## Exercice 2. Titanic"
   ]
  },
  {
   "cell_type": "markdown",
   "id": "1ce17b03",
   "metadata": {},
   "source": [
    "Le RMS Titanic est un paquebot transatlantique britannique qui fait naufrage dans l’océan Atlantique\n",
    "Nord en 1912 à la suite d’une collision avec un iceberg, lors de son voyage inaugural de Southampton\n",
    "à New York. C’est l’une des plus grandes catastrophes maritimes survenues en temps de paix et la plus\n",
    "grande pour l’époque. (Source : Wikipédia)\n",
    "\n",
    "Nous disposons de données sur les passagers (âge, sexe, . . .) et leur devenir (survivant ou non au\n",
    "naufrage). Le fichier \"titanic3.xls\" est à télécharger sur la page AMeTICE du cours.\n",
    "\n",
    "Vous allez utiliser les règles d’association pour caractériser les deux classes (survivant et non-survivant)\n",
    "en fonction des autres attributs."
   ]
  },
  {
   "cell_type": "markdown",
   "id": "7e8263ab",
   "metadata": {},
   "source": [
    "### 1. Chargement des données"
   ]
  },
  {
   "cell_type": "code",
   "execution_count": 12,
   "id": "4f7f3791",
   "metadata": {},
   "outputs": [],
   "source": [
    "df = pd.read_excel('titanic3.xls')"
   ]
  },
  {
   "cell_type": "code",
   "execution_count": 13,
   "id": "55cf8d24",
   "metadata": {},
   "outputs": [
    {
     "name": "stdout",
     "output_type": "stream",
     "text": [
      "(1309, 14)\n",
      "Index(['pclass', 'survived', 'name', 'sex', 'age', 'sibsp', 'parch', 'ticket',\n",
      "       'fare', 'cabin', 'embarked', 'boat', 'body', 'home.dest'],\n",
      "      dtype='object')\n",
      "pclass         int64\n",
      "survived       int64\n",
      "name          object\n",
      "sex           object\n",
      "age          float64\n",
      "sibsp          int64\n",
      "parch          int64\n",
      "ticket        object\n",
      "fare         float64\n",
      "cabin         object\n",
      "embarked      object\n",
      "boat          object\n",
      "body         float64\n",
      "home.dest     object\n",
      "dtype: object\n"
     ]
    }
   ],
   "source": [
    "#vérification des données chargées\n",
    "print(df.shape)\n",
    "print(df.columns)\n",
    "print(df.dtypes)"
   ]
  },
  {
   "cell_type": "code",
   "execution_count": 14,
   "id": "de232137",
   "metadata": {},
   "outputs": [
    {
     "name": "stdout",
     "output_type": "stream",
     "text": [
      "   pclass  survived                                             name     sex  \\\n",
      "0       1         1                    Allen, Miss. Elisabeth Walton  female   \n",
      "1       1         1                   Allison, Master. Hudson Trevor    male   \n",
      "2       1         0                     Allison, Miss. Helen Loraine  female   \n",
      "3       1         0             Allison, Mr. Hudson Joshua Creighton    male   \n",
      "4       1         0  Allison, Mrs. Hudson J C (Bessie Waldo Daniels)  female   \n",
      "\n",
      "       age  sibsp  parch  ticket      fare    cabin embarked boat   body  \\\n",
      "0  29.0000      0      0   24160  211.3375       B5        S    2    NaN   \n",
      "1   0.9167      1      2  113781  151.5500  C22 C26        S   11    NaN   \n",
      "2   2.0000      1      2  113781  151.5500  C22 C26        S  NaN    NaN   \n",
      "3  30.0000      1      2  113781  151.5500  C22 C26        S  NaN  135.0   \n",
      "4  25.0000      1      2  113781  151.5500  C22 C26        S  NaN    NaN   \n",
      "\n",
      "                         home.dest  \n",
      "0                     St Louis, MO  \n",
      "1  Montreal, PQ / Chesterville, ON  \n",
      "2  Montreal, PQ / Chesterville, ON  \n",
      "3  Montreal, PQ / Chesterville, ON  \n",
      "4  Montreal, PQ / Chesterville, ON  \n"
     ]
    }
   ],
   "source": [
    "print(df.head())"
   ]
  },
  {
   "cell_type": "markdown",
   "id": "f191f6f7",
   "metadata": {},
   "source": [
    "### 2. Préparation des données"
   ]
  },
  {
   "cell_type": "markdown",
   "id": "c48cad1f",
   "metadata": {},
   "source": [
    "Pour préparer les données, nous allons sélectionner certains attributs (\"pclass\", \"survived\", \"sex\"\n",
    "et \"age\"), ignorer les exemples ayant une ou plusieurs valeurs manquantes, discrétiser l’âge (en\n",
    "deux), renommer des valeurs et changer le type des colonnes (en \"category\"). Enfin, nous mettrons lehs données préparées au bon format pour MLxtend."
   ]
  },
  {
   "cell_type": "code",
   "execution_count": 17,
   "id": "7abdf737",
   "metadata": {},
   "outputs": [],
   "source": [
    "#on enleve les attributs non voulus\n",
    "df1 = df.drop(columns = ['name', 'ticket', 'home.dest', 'cabin', 'boat', 'body', 'sibsp', 'parch', 'fare', 'embarked'])"
   ]
  },
  {
   "cell_type": "code",
   "execution_count": 18,
   "id": "bb720d1c",
   "metadata": {},
   "outputs": [
    {
     "name": "stdout",
     "output_type": "stream",
     "text": [
      "(1309, 4)\n",
      "   pclass  survived     sex      age\n",
      "0       1         1  female  29.0000\n",
      "1       1         1    male   0.9167\n",
      "2       1         0  female   2.0000\n",
      "3       1         0    male  30.0000\n",
      "4       1         0  female  25.0000\n",
      "pclass        int64\n",
      "survived      int64\n",
      "sex          object\n",
      "age         float64\n",
      "dtype: object\n",
      "Index(['pclass', 'survived', 'sex', 'age'], dtype='object')\n"
     ]
    }
   ],
   "source": [
    "print(df1.shape)\n",
    "print(df1.head())\n",
    "print(df1.dtypes)\n",
    "print(df1.columns)"
   ]
  },
  {
   "cell_type": "code",
   "execution_count": 19,
   "id": "5b9c9d73",
   "metadata": {},
   "outputs": [
    {
     "name": "stdout",
     "output_type": "stream",
     "text": [
      "263\n",
      "False\n"
     ]
    }
   ],
   "source": [
    "#ignorer les exemples ou l'age est inconnu\n",
    "#print(df1['age'])\n",
    "print(df1['age'].isnull().sum())\n",
    "\n",
    "df2 = df1.dropna()\n",
    "\n",
    "#print(df2.shape)\n",
    "#print(df2.head())\n",
    "\n",
    "# reste-t-il des valeurs manquantes?\n",
    "print(df2.isnull().values.any())"
   ]
  },
  {
   "cell_type": "code",
   "execution_count": 20,
   "id": "b0745213",
   "metadata": {},
   "outputs": [
    {
     "name": "stdout",
     "output_type": "stream",
     "text": [
      "adult    853\n",
      "child    193\n",
      "Name: age, dtype: int64\n"
     ]
    }
   ],
   "source": [
    "#discrétisation de l'age\n",
    "data = df2['age']\n",
    "agemin = data.min()\n",
    "agemax = data.max()\n",
    "datad = pd.cut(data, bins=[agemin, 18, agemax], labels=['child', 'adult'], include_lowest = True)\n",
    "print(datad.value_counts())\n",
    "#ici, au lieu d’indiquer le nombre d’intervalles (par exemple, \"bins=2\"), \n",
    "#on donne une liste de valeurs. Afin d’inclure le minimum, on ajoute \"include_lowest=True\""
   ]
  },
  {
   "cell_type": "code",
   "execution_count": 21,
   "id": "ee31965e",
   "metadata": {},
   "outputs": [
    {
     "name": "stdout",
     "output_type": "stream",
     "text": [
      "   pclass  survived     sex      age   aged\n",
      "0       1         1  female  29.0000  adult\n",
      "1       1         1    male   0.9167  child\n",
      "2       1         0  female   2.0000  child\n",
      "3       1         0    male  30.0000  adult\n",
      "4       1         0  female  25.0000  adult\n",
      "   pclass  survived     sex    age\n",
      "0       1         1  female  adult\n",
      "1       1         1    male  child\n",
      "2       1         0  female  child\n",
      "3       1         0    male  adult\n",
      "4       1         0  female  adult\n"
     ]
    }
   ],
   "source": [
    "df2.insert(4, \"aged\", datad, True)\n",
    "print(df2.head())\n",
    "df2 = df2.drop(columns = ['age'])\n",
    "df2 = df2.rename(columns={'aged': 'age'})\n",
    "print(df2.head())"
   ]
  },
  {
   "cell_type": "code",
   "execution_count": 22,
   "id": "92d86d75",
   "metadata": {},
   "outputs": [],
   "source": [
    "#renommage de valeurs\n",
    "df2['pclass'] = df2['pclass'].map({1:'class=1st', 2:'class=2nd', 3:'class=3rd'})\n",
    "df2['survived'] = df2['survived'].map({1:'survived=yes', 0:'survived=no'})\n",
    "df2['sex'] = df2['sex'].map({'female':'sex=female', 'male':'sex=male'})\n",
    "df2['age'] = df2['age'].map({'adult':'age=adult', 'child':'age=child'})"
   ]
  },
  {
   "cell_type": "code",
   "execution_count": 23,
   "id": "127f0f67",
   "metadata": {},
   "outputs": [
    {
     "name": "stdout",
     "output_type": "stream",
     "text": [
      "pclass        object\n",
      "survived      object\n",
      "sex           object\n",
      "age         category\n",
      "dtype: object\n",
      "pclass      category\n",
      "survived    category\n",
      "sex         category\n",
      "age         category\n",
      "dtype: object\n"
     ]
    }
   ],
   "source": [
    "#changement de types\n",
    "print(df2.dtypes)\n",
    "df2['pclass'] = df2['pclass'].astype('category')\n",
    "df2['survived'] = df2['survived'].astype('category')\n",
    "df2['sex'] = df2['sex'].astype('category')\n",
    "#df2['age'] = df2['age'].astype('category')\n",
    "print(df2.dtypes)"
   ]
  },
  {
   "cell_type": "code",
   "execution_count": 24,
   "id": "be0ca4c4",
   "metadata": {},
   "outputs": [],
   "source": [
    "#pour enregistrer les donnees preparees dans un fichier\n",
    "#df2.to_csv('titanic.csv', header=True, index=False)"
   ]
  },
  {
   "cell_type": "code",
   "execution_count": 25,
   "id": "dede00f9",
   "metadata": {},
   "outputs": [],
   "source": [
    "dataset = df2.values\n",
    "te = TransactionEncoder()\n",
    "te_ary = te.fit(dataset).transform(dataset)\n",
    "dataset = pd.DataFrame(te_ary, columns=te.columns_)"
   ]
  },
  {
   "cell_type": "markdown",
   "id": "832575b1",
   "metadata": {},
   "source": [
    "### 3. Découverte des règles d'association"
   ]
  },
  {
   "cell_type": "code",
   "execution_count": 26,
   "id": "95466ee6",
   "metadata": {},
   "outputs": [
    {
     "name": "stdout",
     "output_type": "stream",
     "text": [
      "    support                 itemsets\n",
      "0  0.815488              (age=adult)\n",
      "1  0.629063               (sex=male)\n",
      "2  0.591778            (survived=no)\n",
      "3  0.532505    (sex=male, age=adult)\n",
      "4  0.500000  (sex=male, survived=no)\n"
     ]
    }
   ],
   "source": [
    "#extraction des motifs frequents\n",
    "frequent_itemsets = apriori(dataset, min_support=0.50, use_colnames=True, verbose=0)\n",
    "print(frequent_itemsets)"
   ]
  },
  {
   "cell_type": "code",
   "execution_count": 27,
   "id": "55b3fc81",
   "metadata": {},
   "outputs": [
    {
     "name": "stdout",
     "output_type": "stream",
     "text": [
      "     antecedents  consequents  antecedent support  consequent support  \\\n",
      "0     (sex=male)  (age=adult)            0.629063            0.815488   \n",
      "1  (survived=no)   (sex=male)            0.591778            0.629063   \n",
      "\n",
      "    support  confidence      lift  leverage  conviction  zhangs_metric  \n",
      "0  0.532505    0.846505  1.038035  0.019512    1.202071       0.098780  \n",
      "1  0.500000    0.844911  1.343126  0.127734    2.391770       0.625808  \n"
     ]
    }
   ],
   "source": [
    "#génération des règles d'association\n",
    "rules = association_rules(frequent_itemsets, metric=\"confidence\", min_threshold=0.8)\n",
    "print(rules)"
   ]
  },
  {
   "cell_type": "markdown",
   "id": "0070a307",
   "metadata": {},
   "source": [
    "### 4. Post-traitement et interprétation des résultats"
   ]
  },
  {
   "cell_type": "code",
   "execution_count": 28,
   "id": "7e9346c6",
   "metadata": {},
   "outputs": [
    {
     "name": "stdout",
     "output_type": "stream",
     "text": [
      "     antecedents  consequents   support  confidence      lift\n",
      "0     (sex=male)  (age=adult)  0.532505    0.846505  1.038035\n",
      "1  (survived=no)   (sex=male)  0.500000    0.844911  1.343126\n"
     ]
    }
   ],
   "source": [
    "myRules = rules.loc[:,['antecedents','consequents', 'support', 'confidence', 'lift']]\n",
    "print(myRules)"
   ]
  },
  {
   "cell_type": "markdown",
   "id": "1fce4d89",
   "metadata": {},
   "source": [
    "La 1re regle est peu interessante.\n",
    "\n",
    "(sex=male) -> (age=adult)  supp=0.533  lift=1.038\n",
    "\n",
    "Il y a 1046 passagers au total.\n",
    "\n",
    "A partir des données, on voit que :\n",
    "\n",
    "658 sont des hommes ; support(sex=male) = P(sex=male) = 0,629.\n",
    "\n",
    "853 sont des adultes ; support(age=adult) = P(age=adult) = 0,815.\n",
    "\n",
    "support = P(sex=male et age=adult) = 0,533 (558/1046)\n",
    "\n",
    "confiance = P(sex=male et age=adult) / P(sex=male) = 0,847 (0,5333/0,629)\n",
    "\n",
    "lift = confiance / support(age=adult) = 1,039 (0,847/0,815)\n",
    "\n",
    "Cette règle concerne 558 passagers sur 1046, soit un support de 53,3%. Comme il y a 658 personnes de sexe masculin dont 558 sont adultes, la confiance est de 84,7%.\n",
    "Le lift est seulement de 1,039. La confiance dépasse de peu la probabilité d'avoir une personne adulte (qui est de 81,5%).\n",
    "\n",
    "Cette règle est donc peu intéressante.\n",
    "\n",
    "\n",
    "La 2e regle l'est un peu plus.\n",
    "\n",
    "(survived=no) -> (sex=male)  supp=0.500  lift=1.343"
   ]
  },
  {
   "cell_type": "markdown",
   "id": "979858ee",
   "metadata": {},
   "source": [
    "### 5. A vous de jouer"
   ]
  },
  {
   "cell_type": "markdown",
   "id": "72429940",
   "metadata": {},
   "source": [
    "Refaire l'extraction des motifs et la génration des règles en faisant varier le minsup et minconf\n",
    "\n",
    "Remarque : si le minsup n'est pas assez bas, on ne verra pas les enfants \n",
    "(age=child) dans les regles produites par la suite\n",
    "\n",
    "Une bonne premiere approche est : faible minsup (si calculs possibles) et minconf eleve, ensuite ajustement/essai"
   ]
  },
  {
   "cell_type": "code",
   "execution_count": 29,
   "id": "20352e33",
   "metadata": {},
   "outputs": [
    {
     "name": "stdout",
     "output_type": "stream",
     "text": [
      "     support                                          itemsets\n",
      "0   0.815488                                       (age=adult)\n",
      "1   0.184512                                       (age=child)\n",
      "2   0.271511                                       (class=1st)\n",
      "3   0.249522                                       (class=2nd)\n",
      "4   0.478967                                       (class=3rd)\n",
      "..       ...                                               ...\n",
      "92  0.010516    (sex=male, class=2nd, survived=yes, age=child)\n",
      "93  0.025813   (sex=female, survived=no, class=3rd, age=child)\n",
      "94  0.029637  (sex=female, survived=yes, class=3rd, age=child)\n",
      "95  0.054493     (survived=no, sex=male, class=3rd, age=child)\n",
      "96  0.014340    (sex=male, survived=yes, class=3rd, age=child)\n",
      "\n",
      "[97 rows x 2 columns]\n"
     ]
    }
   ],
   "source": [
    "# extraction des motifs frequents et des regles d'association\n",
    "frequent_itemsets = apriori(dataset, min_support=0.01, use_colnames=True, verbose=0)\n",
    "print(frequent_itemsets)"
   ]
  },
  {
   "cell_type": "code",
   "execution_count": 37,
   "id": "97815224",
   "metadata": {},
   "outputs": [
    {
     "name": "stdout",
     "output_type": "stream",
     "text": [
      "(44, 10)\n"
     ]
    }
   ],
   "source": [
    "rules = association_rules(frequent_itemsets, metric=\"confidence\", min_threshold=0.8)\n",
    "print(rules.shape)\n",
    "#print(rules)"
   ]
  },
  {
   "cell_type": "code",
   "execution_count": 39,
   "id": "fdec8d78",
   "metadata": {},
   "outputs": [
    {
     "name": "stdout",
     "output_type": "stream",
     "text": [
      "(44, 10)\n"
     ]
    }
   ],
   "source": [
    "myRules = rules.loc[:,['antecedents','consequents', 'support', 'confidence', 'lift']]\n",
    "print(rules.shape)\n",
    "#print(myRules)"
   ]
  },
  {
   "cell_type": "code",
   "execution_count": 40,
   "id": "8b6d7bb4",
   "metadata": {},
   "outputs": [
    {
     "name": "stdout",
     "output_type": "stream",
     "text": [
      "                           antecedents     consequents   support  confidence  \\\n",
      "25  (class=1st, age=adult, sex=female)  (survived=yes)  0.110899    0.966667   \n",
      "16             (class=1st, sex=female)  (survived=yes)  0.122371    0.962406   \n",
      "41  (sex=female, class=2nd, age=child)  (survived=yes)  0.019120    0.952381   \n",
      "40  (class=1st, age=child, sex=female)  (survived=yes)  0.011472    0.923077   \n",
      "18             (sex=female, class=2nd)  (survived=yes)  0.087954    0.893204   \n",
      "31  (sex=female, class=2nd, age=adult)  (survived=yes)  0.068834    0.878049   \n",
      "14              (class=1st, age=child)  (survived=yes)  0.017208    0.857143   \n",
      "\n",
      "        lift  \n",
      "25  2.367994  \n",
      "16  2.357557  \n",
      "41  2.332999  \n",
      "40  2.261214  \n",
      "18  2.188036  \n",
      "31  2.150911  \n",
      "14  2.099699  \n"
     ]
    }
   ],
   "source": [
    "#filtrer les regles avec 'survived=yes' dans consequent\n",
    "survivants = myRules[myRules['consequents'].eq({'survived=yes'})]\n",
    "print(survivants.sort_values(by='lift', ascending=False))"
   ]
  },
  {
   "cell_type": "code",
   "execution_count": 41,
   "id": "0a743888",
   "metadata": {},
   "outputs": [
    {
     "name": "stdout",
     "output_type": "stream",
     "text": [
      "                         antecedents    consequents   support  confidence  \\\n",
      "34  (sex=male, class=2nd, age=adult)  (survived=no)  0.119503    0.912409   \n",
      "20             (sex=male, class=2nd)  (survived=no)  0.129063    0.854430   \n",
      "39  (sex=male, class=3rd, age=adult)  (survived=no)  0.222753    0.841155   \n",
      "23             (sex=male, class=3rd)  (survived=no)  0.277247    0.830946   \n",
      "12             (sex=male, age=adult)  (survived=no)  0.434034    0.815081   \n",
      "\n",
      "        lift  \n",
      "34  1.541809  \n",
      "20  1.443836  \n",
      "39  1.421403  \n",
      "23  1.404150  \n",
      "12  1.377342  \n"
     ]
    }
   ],
   "source": [
    "#filtrer les regles avec 'survived=no' dans consequent\n",
    "nonsurvivants = myRules[myRules['consequents'].eq({'survived=no'})]\n",
    "print(nonsurvivants.sort_values(by='lift', ascending=False))"
   ]
  },
  {
   "cell_type": "markdown",
   "id": "7079468f",
   "metadata": {},
   "source": [
    "**Nous observons que les hommes de 2e et 3e classe n'ont en général pas survécu. \n",
    "Les femmes de 1re et 2e classe ont en général survécu, tout comme les enfants de 1re et 2e classe.**"
   ]
  },
  {
   "cell_type": "markdown",
   "id": "99b14671",
   "metadata": {},
   "source": [
    "**Remarque : attention au (très) faible support de certaines règles qui concernent donc peu de passagers. Il faut être prudent dans les conclusions...**"
   ]
  },
  {
   "cell_type": "code",
   "execution_count": null,
   "id": "c73c71f9",
   "metadata": {},
   "outputs": [],
   "source": []
  }
 ],
 "metadata": {
  "kernelspec": {
   "display_name": "Python 3 (ipykernel)",
   "language": "python",
   "name": "python3"
  },
  "language_info": {
   "codemirror_mode": {
    "name": "ipython",
    "version": 3
   },
   "file_extension": ".py",
   "mimetype": "text/x-python",
   "name": "python",
   "nbconvert_exporter": "python",
   "pygments_lexer": "ipython3",
   "version": "3.11.4"
  }
 },
 "nbformat": 4,
 "nbformat_minor": 5
}
