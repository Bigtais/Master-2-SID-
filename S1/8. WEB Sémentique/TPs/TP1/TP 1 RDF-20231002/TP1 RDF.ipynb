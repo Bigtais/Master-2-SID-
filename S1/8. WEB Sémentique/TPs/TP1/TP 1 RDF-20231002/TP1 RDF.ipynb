{
 "cells": [
  {
   "cell_type": "markdown",
   "id": "108837de",
   "metadata": {},
   "source": [
    "# Environnement\n",
    "- Installer rdflib (https://rdflib.readthedocs.io/en/stable/)\n",
    "- Visualisation : Maptolib et networkx (https://networkx.org/documentation/stable/tutorial.html)"
   ]
  },
  {
   "cell_type": "code",
   "execution_count": 1,
   "id": "00c27cf7",
   "metadata": {},
   "outputs": [
    {
     "name": "stdout",
     "output_type": "stream",
     "text": [
      "Defaulting to user installation because normal site-packages is not writeable\n",
      "Collecting rdflib\n",
      "  Downloading rdflib-7.0.0-py3-none-any.whl (531 kB)\n",
      "\u001b[2K     \u001b[38;2;114;156;31m━━━━━━━━━━━━━━━━━━━━━━━━━━━━━━━━━━━━━━━\u001b[0m \u001b[32m531.9/531.9 kB\u001b[0m \u001b[31m7.3 MB/s\u001b[0m eta \u001b[36m0:00:00\u001b[0m[36m0:00:01\u001b[0m[36m0:00:01\u001b[0m\n",
      "\u001b[?25hRequirement already satisfied: networkx in /opt/anaconda3/lib/python3.10/site-packages (2.8.4)\n",
      "Requirement already satisfied: matplotlib in /opt/anaconda3/lib/python3.10/site-packages (3.7.0)\n",
      "Collecting isodate<0.7.0,>=0.6.0\n",
      "  Downloading isodate-0.6.1-py2.py3-none-any.whl (41 kB)\n",
      "\u001b[2K     \u001b[38;2;114;156;31m━━━━━━━━━━━━━━━━━━━━━━━━━━━━━━━━━━━━━━━━\u001b[0m \u001b[32m41.7/41.7 kB\u001b[0m \u001b[31m7.8 MB/s\u001b[0m eta \u001b[36m0:00:00\u001b[0m\n",
      "\u001b[?25hRequirement already satisfied: pyparsing<4,>=2.1.0 in /opt/anaconda3/lib/python3.10/site-packages (from rdflib) (3.0.9)\n",
      "Requirement already satisfied: kiwisolver>=1.0.1 in /opt/anaconda3/lib/python3.10/site-packages (from matplotlib) (1.4.4)\n",
      "Requirement already satisfied: pillow>=6.2.0 in /opt/anaconda3/lib/python3.10/site-packages (from matplotlib) (9.4.0)\n",
      "Requirement already satisfied: cycler>=0.10 in /opt/anaconda3/lib/python3.10/site-packages (from matplotlib) (0.11.0)\n",
      "Requirement already satisfied: python-dateutil>=2.7 in /opt/anaconda3/lib/python3.10/site-packages (from matplotlib) (2.8.2)\n",
      "Requirement already satisfied: contourpy>=1.0.1 in /opt/anaconda3/lib/python3.10/site-packages (from matplotlib) (1.0.5)\n",
      "Requirement already satisfied: packaging>=20.0 in /opt/anaconda3/lib/python3.10/site-packages (from matplotlib) (22.0)\n",
      "Requirement already satisfied: fonttools>=4.22.0 in /opt/anaconda3/lib/python3.10/site-packages (from matplotlib) (4.25.0)\n",
      "Requirement already satisfied: numpy>=1.20 in /amuhome/s21219997/.local/lib/python3.10/site-packages (from matplotlib) (1.22.1)\n",
      "Requirement already satisfied: six in /opt/anaconda3/lib/python3.10/site-packages (from isodate<0.7.0,>=0.6.0->rdflib) (1.16.0)\n",
      "Installing collected packages: isodate, rdflib\n",
      "\u001b[33m  WARNING: The scripts csv2rdf, rdf2dot, rdfgraphisomorphism, rdfpipe and rdfs2dot are installed in '/amuhome/s21219997/.local/bin' which is not on PATH.\n",
      "  Consider adding this directory to PATH or, if you prefer to suppress this warning, use --no-warn-script-location.\u001b[0m\u001b[33m\n",
      "\u001b[0mSuccessfully installed isodate-0.6.1 rdflib-7.0.0\n",
      "Note: you may need to restart the kernel to use updated packages.\n"
     ]
    }
   ],
   "source": [
    "pip install rdflib networkx matplotlib"
   ]
  },
  {
   "cell_type": "markdown",
   "id": "2ee449fb",
   "metadata": {},
   "source": [
    "## Exercice 1 : RDF/XML"
   ]
  },
  {
   "cell_type": "markdown",
   "id": "d8e94488",
   "metadata": {},
   "source": [
    "- Créer un fichier RDF ayant le contenu suivant :"
   ]
  },
  {
   "cell_type": "raw",
   "id": "f1e92d0b",
   "metadata": {},
   "source": [
    "<rdf:RDF xmlns:ex=\"http://example.org/stuff/1.0/\">\n",
    "<rdf:Description rdf:about=\"http://www.example.org/index.html\">\n",
    "<ex:auteur rdf:resource= \"http://www.example.org/auteur#JohnSmith\"/>\n",
    "<ex:theme>langage RDF</ex:theme>\n",
    "<ex:parties>\n",
    "<ex:duree>6h</ex:duree>\n",
    "    <rdf:Bag>\n",
    "      <rdf:_1>Introduction</rdf:_1>\n",
    "      <rdf:_2>syntaxe</rdf:_2>\n",
    "      <rdf:_3>modèle</rdf:_3>\n",
    "      <rdf:_4>données</rdf:_4>\n",
    "    </rdf:Bag>\n",
    "  </ex:parties>\n",
    "</rdf:about>\n",
    "</rdf:RDF>"
   ]
  },
  {
   "cell_type": "markdown",
   "id": "4fbe4b97",
   "metadata": {},
   "source": [
    "- Parser le fichier avec rdflib"
   ]
  },
  {
   "cell_type": "code",
   "execution_count": 2,
   "id": "15004aca",
   "metadata": {},
   "outputs": [
    {
     "name": "stdout",
     "output_type": "stream",
     "text": [
      "DONE\n"
     ]
    }
   ],
   "source": [
    " from rdflib import Graph\n",
    "\n",
    "# Création du graphe RDF\n",
    "g = Graph()\n",
    "\n",
    "# Chargement des données RDF depuis un fichier au format RDF/XML\n",
    "rdf_file = \"file.rdf\"  \n",
    "g.parse(rdf_file, format=\"xml\")\n",
    "print(\"DONE\")"
   ]
  },
  {
   "cell_type": "markdown",
   "id": "59bf0e32",
   "metadata": {},
   "source": [
    "- Corriger les erreurs "
   ]
  },
  {
   "cell_type": "code",
   "execution_count": null,
   "id": "928bd2a5",
   "metadata": {},
   "outputs": [],
   "source": []
  },
  {
   "cell_type": "markdown",
   "id": "42eafaca",
   "metadata": {},
   "source": [
    "- Visualiser le graphe en utilisant la bibliothèque networkxs"
   ]
  },
  {
   "cell_type": "code",
   "execution_count": 4,
   "id": "5ebc7358",
   "metadata": {},
   "outputs": [
    {
     "name": "stdout",
     "output_type": "stream",
     "text": [
      "Defaulting to user installation because normal site-packages is not writeable\n",
      "Requirement already satisfied: networkx in /opt/anaconda3/lib/python3.10/site-packages (2.8.4)\n",
      "Note: you may need to restart the kernel to use updated packages.\n"
     ]
    }
   ],
   "source": [
    "pip install networkx"
   ]
  },
  {
   "cell_type": "code",
   "execution_count": 5,
   "id": "915f7a41",
   "metadata": {},
   "outputs": [
    {
     "ename": "TypeError",
     "evalue": "'_AxesStack' object is not callable",
     "output_type": "error",
     "traceback": [
      "\u001b[0;31m---------------------------------------------------------------------------\u001b[0m",
      "\u001b[0;31mTypeError\u001b[0m                                 Traceback (most recent call last)",
      "Cell \u001b[0;32mIn[5], line 15\u001b[0m\n\u001b[1;32m     13\u001b[0m \u001b[38;5;66;03m# Visualisation du graphe\u001b[39;00m\n\u001b[1;32m     14\u001b[0m pos \u001b[38;5;241m=\u001b[39m nx\u001b[38;5;241m.\u001b[39mspring_layout(G)\n\u001b[0;32m---> 15\u001b[0m \u001b[43mnx\u001b[49m\u001b[38;5;241;43m.\u001b[39;49m\u001b[43mdraw\u001b[49m\u001b[43m(\u001b[49m\u001b[43mG\u001b[49m\u001b[43m,\u001b[49m\u001b[43m \u001b[49m\u001b[43mpos\u001b[49m\u001b[43m,\u001b[49m\u001b[43m \u001b[49m\u001b[43mwith_labels\u001b[49m\u001b[38;5;241;43m=\u001b[39;49m\u001b[38;5;28;43;01mTrue\u001b[39;49;00m\u001b[43m,\u001b[49m\u001b[43m \u001b[49m\u001b[43mnode_size\u001b[49m\u001b[38;5;241;43m=\u001b[39;49m\u001b[38;5;241;43m500\u001b[39;49m\u001b[43m,\u001b[49m\u001b[43m \u001b[49m\u001b[43mnode_color\u001b[49m\u001b[38;5;241;43m=\u001b[39;49m\u001b[38;5;124;43m'\u001b[39;49m\u001b[38;5;124;43myellow\u001b[39;49m\u001b[38;5;124;43m'\u001b[39;49m\u001b[43m,\u001b[49m\u001b[43m \u001b[49m\u001b[43mfont_size\u001b[49m\u001b[38;5;241;43m=\u001b[39;49m\u001b[38;5;241;43m10\u001b[39;49m\u001b[43m,\u001b[49m\u001b[43m \u001b[49m\u001b[43mfont_weight\u001b[49m\u001b[38;5;241;43m=\u001b[39;49m\u001b[38;5;124;43m'\u001b[39;49m\u001b[38;5;124;43mbold\u001b[39;49m\u001b[38;5;124;43m'\u001b[39;49m\u001b[43m)\u001b[49m\n\u001b[1;32m     17\u001b[0m plt\u001b[38;5;241m.\u001b[39mshow()\n",
      "File \u001b[0;32m/opt/anaconda3/lib/python3.10/site-packages/networkx/drawing/nx_pylab.py:113\u001b[0m, in \u001b[0;36mdraw\u001b[0;34m(G, pos, ax, **kwds)\u001b[0m\n\u001b[1;32m    111\u001b[0m cf\u001b[38;5;241m.\u001b[39mset_facecolor(\u001b[38;5;124m\"\u001b[39m\u001b[38;5;124mw\u001b[39m\u001b[38;5;124m\"\u001b[39m)\n\u001b[1;32m    112\u001b[0m \u001b[38;5;28;01mif\u001b[39;00m ax \u001b[38;5;129;01mis\u001b[39;00m \u001b[38;5;28;01mNone\u001b[39;00m:\n\u001b[0;32m--> 113\u001b[0m     \u001b[38;5;28;01mif\u001b[39;00m \u001b[43mcf\u001b[49m\u001b[38;5;241;43m.\u001b[39;49m\u001b[43m_axstack\u001b[49m\u001b[43m(\u001b[49m\u001b[43m)\u001b[49m \u001b[38;5;129;01mis\u001b[39;00m \u001b[38;5;28;01mNone\u001b[39;00m:\n\u001b[1;32m    114\u001b[0m         ax \u001b[38;5;241m=\u001b[39m cf\u001b[38;5;241m.\u001b[39madd_axes((\u001b[38;5;241m0\u001b[39m, \u001b[38;5;241m0\u001b[39m, \u001b[38;5;241m1\u001b[39m, \u001b[38;5;241m1\u001b[39m))\n\u001b[1;32m    115\u001b[0m     \u001b[38;5;28;01melse\u001b[39;00m:\n",
      "\u001b[0;31mTypeError\u001b[0m: '_AxesStack' object is not callable"
     ]
    },
    {
     "data": {
      "text/plain": [
       "<Figure size 640x480 with 0 Axes>"
      ]
     },
     "metadata": {},
     "output_type": "display_data"
    }
   ],
   "source": [
    "# Créer un graphe networkx\n",
    "import networkx as nx\n",
    "import matplotlib.pyplot as plt\n",
    "\n",
    "G = nx.Graph()\n",
    "\n",
    "# Parcours des triples RDF et ajout des nœuds et des arêtes au graphe networkx\n",
    "for subject, predicate, obj in g:\n",
    "    G.add_node(subject)\n",
    "    G.add_node(obj)\n",
    "    G.add_edge(subject, obj)\n",
    "\n",
    "# Visualisation du graphe\n",
    "pos = nx.spring_layout(G)\n",
    "nx.draw(G, pos, with_labels=True, node_size=500, node_color='yellow', font_size=10, font_weight='bold')\n",
    "\n",
    "plt.show()"
   ]
  },
  {
   "cell_type": "markdown",
   "id": "1e6c87b7",
   "metadata": {},
   "source": [
    "- Convertir le fichier en turtle"
   ]
  },
  {
   "cell_type": "raw",
   "id": "83e79a01",
   "metadata": {},
   "source": [
    "# Sérialisez le graphe au format Turtle et sauvegardez-le dans un fichier\n",
    "g.serialize(destination=\"votre_fichier.ttl\", format=\"turtle\")\n"
   ]
  },
  {
   "cell_type": "code",
   "execution_count": null,
   "id": "be9fb717",
   "metadata": {},
   "outputs": [],
   "source": []
  },
  {
   "cell_type": "markdown",
   "id": "72170760",
   "metadata": {},
   "source": [
    "# Excercice 2 : Modélisation des données cinématographiques"
   ]
  },
  {
   "cell_type": "markdown",
   "id": "979de1e3",
   "metadata": {},
   "source": [
    "Vous allez créer avec rdflib un graphe RDF qui modélise de données cinématographiques : \n",
    "\n",
    "1) Les données à modéliser\n",
    "\n",
    "- Films : Chaque film a un titre, un réalisateur, une année de sortie, un genre (e.g. : action, comédie, science-fiction), un résumé, une liste d'acteurs principaux, une durée, une évaluation du film, etc.\n",
    "\n",
    "- Réalisateur : Chaque réalisateur a un nom, une biographie et une liste de films qu'il a réalisés.\n",
    "\n",
    "- Acteurs : Chaque acteur a un nom, une biographie et une liste de films dans lesquels il a joué.\n",
    "\n",
    "- Genres :  Chaque genre a un nom et une description.\n",
    "\n",
    "- Utilisateurs : Chaque utilisateur a un identifiant et des préférences cinématographiques (acteurs préférés, genres préférés, etc).\n",
    "\n",
    "- Évaluations : Elle est décrite par l'identifiant de l'utilisateur qui a donné l'évaluation, identifiant du film évalué la note attribuée au film, Commentaire ou avis sur le film.\n",
    "\n",
    "2) Liens entre les entités\n",
    "- Les films sont associés à leurs acteurs, réalisateurs et genres.\n",
    "- Les utilisateurs sont associés aux films qu'ils ont évalués.\n",
    "- Les utilisateurs peuvent être liés entre eux en fonction de leurs préférences cinématographiques similaires.\n",
    " \n",
    "\n",
    "\n",
    "\n",
    "\n",
    "\n",
    "\n",
    "\n",
    "\n",
    "\n"
   ]
  },
  {
   "cell_type": "markdown",
   "id": "0fbe43e4",
   "metadata": {},
   "source": [
    "- Pour vous aider, vous pouvez tester l'exemple suivant"
   ]
  },
  {
   "cell_type": "raw",
   "id": "a87a8117",
   "metadata": {},
   "source": [
    "import networkx as nx\n",
    "import matplotlib.pyplot as plt\n",
    "from rdflib import Graph, Namespace, Literal, RDF, RDFS\n",
    "\n",
    "# Créez un graphe RDF\n",
    "g = Graph()\n",
    "\n",
    "# Définissez un espace de noms pour nos données RDF\n",
    "ex = Namespace(\"http://example.org/\")\n",
    "\n",
    "\n",
    "# Ajout de triplets\n",
    "g.add((ex['Film1'], RDF.type, ex['Film']))\n",
    "g.add((ex['Film1'], ex['titre'], Literal(\"Exemple\")))\n",
    "g.add((ex['Film1'], ex['acteur'], ex['Acteur1']))\n",
    "g.add((ex['Acteur1'], RDF.type, Literal(\"Acteur\")))\n",
    "\n",
    "# Sérialisez le graphe RDF au format Turtle\n",
    "g.serialize(destination=\"films.rdf\", format=\"turtle\")\n",
    "\n",
    "\n",
    "# Création du graphe networkx\n",
    "G = nx.Graph()\n",
    "\n",
    "# Parcours des triples RDF  \n",
    "for subject, predicate, obj in g:\n",
    "    G.add_node(subject)\n",
    "    G.add_node(obj)\n",
    "    G.add_edge(subject, obj)\n",
    "\n",
    "# Visualisation du graphe\n",
    "pos = nx.spring_layout(G)\n",
    "nx.draw(G, pos, with_labels=True, node_size=500, node_color='yellow', font_size=10, font_weight='bold')\n",
    "plt.show()"
   ]
  }
 ],
 "metadata": {
  "kernelspec": {
   "display_name": "Python 3 (ipykernel)",
   "language": "python",
   "name": "python3"
  },
  "language_info": {
   "codemirror_mode": {
    "name": "ipython",
    "version": 3
   },
   "file_extension": ".py",
   "mimetype": "text/x-python",
   "name": "python",
   "nbconvert_exporter": "python",
   "pygments_lexer": "ipython3",
   "version": "3.10.9"
  }
 },
 "nbformat": 4,
 "nbformat_minor": 5
}
