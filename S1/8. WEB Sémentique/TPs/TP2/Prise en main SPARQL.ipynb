{
 "cells": [
  {
   "cell_type": "markdown",
   "id": "52cca5f5",
   "metadata": {},
   "source": [
    "# I.\tPrise en main\n",
    " \n",
    "\n",
    "1. Données DBPedia\n",
    "    - HTML : http://dbpedia.org\n",
    "    - SPARQL endpoint : http://dbpedia.org/sparql\n",
    "    - Téléchargements des données RDF : http://wiki.dbpedia.org/Datasets\n",
    "    - Consulter les classes : http://mappings.dbpedia.org/server/ontology/classes/\n",
    "    - Chapitre francophone de DBpedia : http://fr.dbpedia.org\n",
    "    - Accès aux différentes classes : http://mappings.dbpedia.org/server/ontology/classes/\n",
    "    - Exemple de classe : Work\n",
    "        - Au format HTML : http://dbpedia.org/ontology/Work\n",
    "        - Au format RDF : http://dbpedia.org/data3/Work.ntriples\n",
    "\n",
    "    - Vous pouvez consulter les différentes classes de l’ontologie DBpedia : http://mappings.dbpedia.org/server/ontology/classes/\n",
    "    - Vous allez prendre un exemple de dbpedia sur les oeuvres. Vous allez sur le lien suivant : http://dbpedia.org/ontology/Work.\n",
    "\n",
    "2. Import des bibliothèques : Vous aller utiliser des bibliothèques telles que SPARQLWrapper pour interagir avec des points d'accès SparQL à partir de votre code Python.\n"
   ]
  },
  {
   "cell_type": "code",
   "execution_count": 1,
   "id": "6f430ce8",
   "metadata": {},
   "outputs": [
    {
     "name": "stdout",
     "output_type": "stream",
     "text": [
      "Requirement already satisfied: SPARQLWrapper in c:\\users\\aghil\\anaconda3\\envs\\tp1\\lib\\site-packages (2.0.0)\n",
      "Requirement already satisfied: rdflib>=6.1.1 in c:\\users\\aghil\\anaconda3\\envs\\tp1\\lib\\site-packages (from SPARQLWrapper) (7.0.0)\n",
      "Requirement already satisfied: isodate<0.7.0,>=0.6.0 in c:\\users\\aghil\\anaconda3\\envs\\tp1\\lib\\site-packages (from rdflib>=6.1.1->SPARQLWrapper) (0.6.1)\n",
      "Requirement already satisfied: pyparsing<4,>=2.1.0 in c:\\users\\aghil\\anaconda3\\envs\\tp1\\lib\\site-packages (from rdflib>=6.1.1->SPARQLWrapper) (3.1.1)\n",
      "Requirement already satisfied: six in c:\\users\\aghil\\anaconda3\\envs\\tp1\\lib\\site-packages (from isodate<0.7.0,>=0.6.0->rdflib>=6.1.1->SPARQLWrapper) (1.16.0)\n"
     ]
    }
   ],
   "source": [
    "!pip install SPARQLWrapper"
   ]
  },
  {
   "cell_type": "markdown",
   "id": "5e466bd3",
   "metadata": {},
   "source": [
    "3. Les préfixes les plus courants que DBpedia positionne par défaut :\n",
    "    - rdf: http://www.w3.org/1999/02/22-rdf-syntax-ns#\n",
    "    - rdfs: http://www.w3.org/2000/01/rdf-schema#\n",
    "    - owl: http://www.w3.org/2002/07/owl#\n",
    "    - xsd: http://www.w3.org/2001/XMLSchema#\n",
    "    - dc: http://purl.org/dc/elements/1.1/\n",
    "    - foaf: http://xmlns.com/foaf/0.1/\n",
    "    - dbpedia: http://dbpedia.org/resource\n",
    "    - dbpedia-owl: http://dbpedia.org/ontology/\n",
    "    - dbpprop: http://dbpedia.org/property/\n",
    "    - dbr: <http://dbpedia.org/resource/>\n",
    "    - dbo: <http://dbpedia.org/ontology/>\n"
   ]
  },
  {
   "cell_type": "markdown",
   "id": "4e737ac0",
   "metadata": {},
   "source": [
    "4. Exemple de requête: \n",
    "- Vous allez parcourir les propriétés de la ressource : http://dbpedia.org/resource/Armageddon_(1998_film).\n",
    "- Tester l'exemple suivant et expliquer ce que retourne la requête "
   ]
  },
  {
   "cell_type": "code",
   "execution_count": 2,
   "id": "c5605852",
   "metadata": {},
   "outputs": [
    {
     "name": "stdout",
     "output_type": "stream",
     "text": [
      "  titre : أرمجدون (فيلم)\n",
      "  titre : Armageddon (pel·lícula)\n",
      "  titre : Armageddon (film, 1998)\n",
      "  titre : Armageddon – Das jüngste Gericht\n",
      "  titre : Αρμαγεδδών (ταινία, 1998)\n",
      "  titre : Armageddon (1998 film)\n",
      "  titre : Armageddon (película)\n",
      "  titre : Armageddon\n",
      "  titre : Armageddon (film, 1998)\n",
      "  titre : Armageddon (film 1998)\n",
      "  titre : Armageddon - Giudizio finale\n",
      "  titre : 아마겟돈 (1998년 영화)\n",
      "  titre : アルマゲドン (映画)\n",
      "  titre : Armageddon (film)\n",
      "  titre : Armageddon (film)\n",
      "  titre : Armageddon (filme)\n",
      "  titre : Армагеддон (фильм, 1998)\n",
      "  titre : Armageddon (film)\n",
      "  titre : Армагеддон (фільм, 1998)\n",
      "  titre : 絕世天劫\n"
     ]
    }
   ],
   "source": [
    "from SPARQLWrapper import SPARQLWrapper, JSON\n",
    "\n",
    "# URL du point d'accès SparQL de la DBpedia\n",
    "dbpedia_sparql_endpoint = \"http://dbpedia.org/sparql\"\n",
    "\n",
    "# Création d'une instance de SPARQLWrapper \n",
    "sparql = SPARQLWrapper(dbpedia_sparql_endpoint)\n",
    "\n",
    "# Requête SPARQL\n",
    "query = \"\"\"\n",
    "PREFIX rdf: <http://www.w3.org/1999/02/22-rdf-syntax-ns#>\n",
    "PREFIX rdfs: <http://www.w3.org/2000/01/rdf-schema#>\n",
    "\n",
    "\n",
    "SELECT ?titre\n",
    "WHERE {  <http://dbpedia.org/resource/Armageddon_(1998_film)> rdfs:label ?titre. \n",
    "\n",
    "  }\n",
    "LIMIT 100\n",
    "\"\"\"\n",
    "\n",
    "# Format de résultat en JSON\n",
    "sparql.setReturnFormat(JSON)\n",
    "\n",
    "\n",
    "# Exécution de la requête  \n",
    "sparql.setQuery(query)\n",
    "results = sparql.query().convert()\n",
    "\n",
    "# Affichage des résultats\n",
    "for result in results[\"results\"][\"bindings\"]:\n",
    "  #  print(\"the result is\",results)\n",
    "    titre = result[\"titre\"][\"value\"]\n",
    "    \n",
    "    \n",
    "    print(f\"  titre : {titre}\")\n",
    "\n"
   ]
  },
  {
   "cell_type": "markdown",
   "id": "4250599f",
   "metadata": {},
   "source": [
    "# II. Requêtes SPARQL"
   ]
  },
  {
   "cell_type": "markdown",
   "id": "45119fd0",
   "metadata": {},
   "source": [
    "- Modifier la requête afin de déterminer les résumés des différents films Armageddon"
   ]
  },
  {
   "cell_type": "code",
   "execution_count": 3,
   "id": "2b605f9f",
   "metadata": {},
   "outputs": [
    {
     "name": "stdout",
     "output_type": "stream",
     "text": [
      "  resume : Armageddon (anglicky Armageddon) je americký katastrofický film, který v roce 1998 natočil režisér Michael Bay. V hlavních rolích Bruce Willis, Ben Affleck a Liv Tyler.\n",
      "  resume : Armageddon és una pel·lícula dirigida l'any 1998 per Michael Bay. Una altra pel·lícula d'impacte des de l'espai, Deep Impact, s'estrenà dos mesos i mig abans d'Armageddon als Estats Units i fou aplaudida per alguns astrònoms com més encertada des del punt de vista científic, i la crítica també la va rebre bé,però Armageddon va recaptar molts més diners a tot el món. interpretà el paper de president dels Estats Units. A l'anterior pel·lícula de Michael Bay, The Rock, Anderson realitzà el mateix paper. Es rodà el llançament del transbordador Columbia per a permetre a l'equip estudiar els àngles, la velocitat del metratge i altre tipus d'elements. Inicialment es pensà en Sean Connery com a protagonista de la pel·lícula. Michael Bay acabava de treballar amb ell a The Rock. Per interpretar el personatge de Harry Stamper, el director Michael Bay i el productor Jerry Bruckheimer hagueren de viatjar a Idaho per a convèncer a Bruce Willis. Michael Bay interpretà a un dels científics de la NASA en un cameo. La NASA observà a la pel·lícula més de 170 errors respecte a la missió: un d'ells és que no es pot fer explotar un asteroide d'aquella mida amb només una bomba nuclear. A la versió original la veu que parla al principi de la pel·lícula és Charlton Heston. Bruce Willis, degut a deutes anteriors, firmà un acord de tres pel·lícules amb Disney, renunciant al 15% de la taquilla, és a dir, uns 80 milions de dòlars. Més o menys al principi de la pel·lícula apareixen quatre vegades les Torres Bessones i una d'aquelles vegades surt cremant una de les torres.\n",
      "  resume : أرمجدون (بالإنجليزية:Armageddon) هو فيلم خيال علمي أمريكي 1998 من إخراج مايكل باي وإنتاج جيري بروكهايمر. يتبع الفيلم من مجموعة من عمال الحفر يرسلون إلى الفضاء من قبل ناسا لإيقاف كويكب عملاق من الاصطدام بالأرض. الفيلم بطولة بروس ويليس و بن أفليك و ليف تايلر و بيلي بوب ثورنتون و مايكل كلارك دنكان و ويليام فيكتنر و اوين ويلسون. تلقى الفيلم مراجعات سلبية من النقاد، لكنه أصبح أعلى الأفلام دخلاً في 1998.\n",
      "  resume : Ο Αρμαγεδδών (αγγλικά:Armageddon) είναι μια αμερικανική ταινία καταστροφής, καθώς και επιστημονικής φαντασίας του 1998, σε παραγωγή και σκηνοθεσία του Μάικλ Μπέι, σε παραγωγή του Τζέρι Μπρουκχάιμερ, ενώ τη διανομή ανέλαβε η Touchstone Pictures. Η ταινία ακολουθεί μια ομάδα έμπειρων επιστημόνων που στάλθηκαν από τη NASA για να σταματήσουν έναν γιγαντιαίο αστεροειδή, που ετοιμάζεται να συγκρουστεί με την Γη. Πρωταγωνιστούν οι Μπρους Γουίλις, Μπεν Άφλεκ, Μπίλι Μπομπ Θόρτον, Λιβ Τάιλερ, Όουεν Γουίλσον, Γουίλ Πάτον, Πίτερ Στορμάρ, Γουίλιαμ Φίχτνερ, Μάικλ Κλαρκ Ντάνκαν, Κιθ Ντείβιντ και Στιβ Μπουσέμι. Παρά τη διεθνή επιτυχία στο box-office, αφού κατάφερε κι έγινε η ταινία με τα υψηλότερα κέρδη του 1998 παγκοσμίως,η ταινία έλαβε γενικά αρνητικές κυρίως κριτικές, με τους επιστήμονες να λένε ότι η παρόμοια ταινία καταστροφής Ολέθρια σύγκρουση ήταν πιο ακριβής επιστημονικά.\n",
      "  resume : Armageddon is a 1998 American science fiction disaster film produced and directed by Michael Bay, produced by Jerry Bruckheimer, and released by Touchstone Pictures. The film follows a group of blue-collar deep-core drillers sent by NASA to stop a gigantic asteroid on a collision course with Earth. It stars Bruce Willis with Billy Bob Thornton, Liv Tyler, Ben Affleck, Will Patton, Peter Stormare, Keith David and Steve Buscemi. The film was a commercial success, grossing $553 million worldwide against a $140 million budget and becoming the highest-grossing film of 1998. However, the film received mostly mixed reviews from critics.\n",
      "  resume : Armageddon – Das jüngste Gericht (Originaltitel: Armageddon) ist ein US-amerikanischer Katastrophenfilm von Michael Bay aus dem Jahr 1998, in dem eine Gruppe Bohrspezialisten die Vernichtung der Menschheit durch einen aus dem All heranrasenden Asteroiden abwenden muss. Die Hauptrollen verkörpern Bruce Willis, Ben Affleck und Liv Tyler. Der Titel des Films bezieht sich auf den biblischen Begriff des Harmagedon. Das Budget betrug 140 Millionen US-Dollar.\n",
      "  resume : Armageddon zuzendutako 1998ko filma da, eta munduaren amaiera eragin dezakeen lurraren aurka talka egingo duen meteoritoak eragindako kalteak kontatzen ditu. Ameriketako Estatu Batuetan 1998 uztailaren 1ean estreinatu zen.\n",
      "  resume : Armageddon es una película de ciencia ficción y cine catástrofe de 1998, dirigida por Michael Bay, producida por Jerry Bruckheimer y protagonizada por Bruce Willis, Billy Bob Thornton, Ben Affleck, Liv Tyler, Owen Wilson, Will Patton, Michael Clarke Duncan, Peter Stormare y Steve Buscemi. La película trata sobre un grupo de perforadores de plataformas petrolíferas que son enviados por la NASA a un enorme asteroide que amenaza el planeta Tierra con la idea de taladrar su superficie y poder destruirlo con una bomba nuclear.​\n",
      "  resume : Armageddon est un film catastrophe américain réalisé par Michael Bay et sorti en 1998. Le film reçoit des critiques plutôt négatives dans la presse, il rencontre un immense succès auprès du public. Il est le 2e meilleur film au box-office nord-américain de 1998. Il reçoit par ailleurs quatre nominations aux Oscars 1999.\n",
      "  resume : Armageddon adalah sebuah film fiksi-ilmiah tentang akhir zaman atau armagedon yang meraih nominasi Academy Award sebagai film bencana terbaik tahun 1998. Film ini disutradarai oleh Michael Bay, produsernya oleh Jerry Bruckheimer. Pemain utamanya di film ini ialah Bruce Willis, Ben Affleck, Liv Tyler, Billy Bob Thornton, dan masih banyak lagi. Dirilis pada 1 Juli 1998 di Amerika Serikat sedangkan di Indonesia dirilis pada awal September 1998.\n",
      "  resume : 『アルマゲドン』（Armageddon）は、1998年のアメリカ映画。タッチストーン・ピクチャーズ提供、ジェリー・ブラッカイマー作品。\n",
      "  resume : Armageddon - Giudizio finale (Armageddon) è un film del 1998 diretto da Michael Bay. Negli Stati Uniti uscì il 1º luglio del 1998, mentre nelle sale italiane arrivò il 4 settembre dello stesso anno, preceduto da un'anteprima nelle principali località balneari il 14 agosto. È stato distribuito nei cinema circa due mesi dopo un altro film di fantascienza che tratta un argomento identico, Deep Impact.\n",
      "  resume : Armageddon is een sci-fi rampenfilm uit 1998, geregisseerd door Michael Bay en geproduceerd door Jerry Bruckheimer. De film gaat over een meteoriet die de aarde bedreigt. Bruce Willis, Ben Affleck en Liv Tyler speelden de hoofdrollen. Ook de bijrollen werden bezet door een aantal topacteurs, onder wie Billy Bob Thornton, Steve Buscemi, Peter Stormare, Owen Wilson en Michael Clarke Duncan.\n",
      "  resume : 《아마겟돈》(영어: Armageddon)는 1998년 미국의 재난 SF 스릴러 영화이다. 마이클 베이가 감독, 제리 브룩하이머가 프로듀서, 터치스톤 픽처스가 제작하였다. 이 영화는 우주선을 발사해 지구로 무섭게 날아드는 소행성을 파괴한다는 내용을 담고 있으며, 앙상블 캐스트로는 브루스 윌리스, 벤 애플렉, 빌리 밥 손턴, 리브 타일러, 오웬 윌슨, 윌 패튼, 피터 스토메어, 키스 데이비드와 스티브 부세미가 출연한다. 영화는 엇갈리는 다소 찬반이 갈리는 평가를 받았지만 비슷한 시기에 개봉된 스티븐 스필버그 감독의 《라이언 일병 구하기》를 능가하는 수익을 거두며 흥행에 크게 성공하였다. 1998년 미국 아카데미상 4개 부문의 시각 효과상, 음향 효과 편집상, 음향상, 주제가상에 후보 지명되었다. 새턴상 감독상과 SF 영화상을 수상하였다. 또한, 골든 래즈베리상에서 7개 부문 후보 지명되는 굴욕을 겪기도 했다.\n",
      "  resume : «Армагеддо́н» (англ. Armageddon) — американский фантастический фильм 1998 года режиссёра Майкла Бэя.\n",
      "  resume : Armageddon – amerykański film katastroficzny w reżyserii Michaela Baya z Bruce'em Willisem i Benem Affleckiem w rolach głównych, nakręcony w 1998 roku. Otrzymał w większości negatywne recenzje; serwis Rotten Tomatoes w oparciu o opinie ze 115 recenzji przyznał mu wynik 39%.\n",
      "  resume : Armageddon är en amerikansk katastroffilm från 1998 i regi av Michael Bay. Filmen hade biopremiär i USA den 1 juli 1998 och dess mest betydande roller spelas av ensemblen Bruce Willis, Ben Affleck, Billy Bob Thornton, Liv Tyler, Owen Wilson, Will Patton, Peter Stormare, William Fichtner, Michael Clarke Duncan, Keith David och Steve Buscemi.\n",
      "  resume : Armageddon (bra/prt: Armageddon) é um filme norte-americano de 1998, gêneros drama, ficção científica e catástrofe, dirigido por Michael Bay, produzido por Jerry Bruckheimer e lançado pela Touchstone Pictures. O filme acompanha um grupo de operários petrolíferos enviado pela NASA para destruir um gigantesco asteróide em rota de colisão com a Terra. O elenco do filme inclui Bruce Willis, Ben Affleck, Billy Bob Thornton, Liv Tyler, Owen Wilson, Will Patton, Peter Stormare, William Fichtner, Robert Duvall, Michael Clarke Duncan, Keith David e Steve Buscemi. O título do filme provém da grande tragédia relatada na Bíblia. A banda sonora do filme conta com várias canções da banda de hard rock Aerosmith, entre as quais o êxito I Don't Want to Miss a Thing. Liv Tyler, filha do vocalista da banda, Steven Tyler, fazia parte do elenco. Armageddon estreou nos cinemas apenas dois meses e meio depois de um filme baseado numa história similar, Impacto Profundo, realizado por Mimi Leder com Robert Duvall e Morgan Freeman. Armageddon teve melhor resultado de bilheteira, enquanto que os astrônomos descreveram Impacto Profundo como sendo mais cientificamente preciso. Ambos os filmes foram igualmente recebidos pelos críticos de cinema. Armageddon foi um sucesso internacional de bilheteira, apesar de ter gerado algumas críticas negativas dos críticos. Tornou-se o filme mais visto do ano, superando o filme de guerra de Steven Spielberg, O Resgate do Soldado Ryan.\n",
      "  resume : «Армагеддо́н» (англ. Armageddon) — американський фантастичний фільм-катастрофа 1998 року режисера Майкла Бея, продюсера Джеррі Брукгаймера і випущений студією Touchstone Pictures. Сюжет оповідає про групу бурильників, які були підготовлені НАСА, щоб зупинити гігантський астероїд до його зіткнення із Землею. Головні ролі виконали: Брюс Вілліс, Бен Аффлек, Біллі Боб Торнтон, Лів Тайлер. «Армагеддон» з'явився в кінотеатрах через два з половиною місяці після фільму з аналогічним сюжетом «Зіткнення з безоднею», в якому знімалися Роберт Дюваль і Морган Фрімен. «Армагеддон» зібрав більше грошей у прокаті, ставши найкасовішим фільмом 1998 року. Він отримав позитивні відгуки глядачів і набув статус культового, проте паралельно через наукові неточності був критично зустрінутий науковою спільнотою й отримав негативні відгуки професійних критиків.\n",
      "  resume : 《世界末日》（英語：Armageddon，香港译《絕世天劫》）是一部美國1998年科幻災難片，該片由麥可·貝執導，傑瑞·布洛克海默監製，試金石影業製片。英文片名Armageddon源於聖經啟示錄中世界末日哈米吉多頓。該片講述了美國太空總署派遣鑽油工人在撞擊地球的小行星上鑽井，並炸毀該小行星的故事。電影主演包括布魯斯·威利、班·艾佛列克、比利·波爾·科頓、麗芙·泰勒、歐文·威爾森、威廉·菲德內爾、麥可·克拉克·鄧肯、基夫·大衛和史提夫·布希米。 《世界末日》電影上映日期剛好是同樣為科幻災難片的《彗星撞地球》上映兩個多月後，該片則由勞勃·杜瓦與摩根·費里曼等主演。在票房上，《世界末日》的票房超越《彗星撞地球》，主要是天文學家認為《世界末日》電影在描述撞擊事件時，在科學上比《彗星撞地球》更加精準真實。儘管遭到許多負面評論，《世界末日》在全球票房仍非常成功，在1998年十大票房電影排名上，《世界末日》以5億5仟萬美元位居第一，超越由史蒂芬·史匹柏執導的二戰史詩片《搶救雷恩大兵》。 此片在香港由洲立影片發行有限公司發行。\n"
     ]
    }
   ],
   "source": [
    "from SPARQLWrapper import SPARQLWrapper, JSON\n",
    "\n",
    "# URL du point d'accès SparQL de la DBpedia\n",
    "dbpedia_sparql_endpoint = \"http://dbpedia.org/sparql\"\n",
    "\n",
    "# Création d'une instance de SPARQLWrapper \n",
    "sparql = SPARQLWrapper(dbpedia_sparql_endpoint)\n",
    "\n",
    "# Requête SPARQL\n",
    "query = \"\"\"\n",
    "PREFIX rdf: <http://www.w3.org/1999/02/22-rdf-syntax-ns#>\n",
    "PREFIX rdfs: <http://www.w3.org/2000/01/rdf-schema#>\n",
    "PREFIX dbo: <http://dbpedia.org/ontology/>\n",
    "\n",
    "\n",
    "SELECT ?resume\n",
    "WHERE {  <http://dbpedia.org/resource/Armageddon_(1998_film)> dbo:abstract ?resume. \n",
    "\n",
    "  }\n",
    "LIMIT 100\n",
    "\"\"\"\n",
    "\n",
    "# Format de résultat en JSON\n",
    "sparql.setReturnFormat(JSON)\n",
    "\n",
    "\n",
    "# Exécution de la requête  \n",
    "sparql.setQuery(query)\n",
    "results = sparql.query().convert()\n",
    "\n",
    "# Affichage des résultats\n",
    "for result in results[\"results\"][\"bindings\"]:\n",
    "  #  print(\"the result is\",results)\n",
    "    titre = result[\"resume\"][\"value\"]\n",
    "    \n",
    "    \n",
    "    print(f\"  resume : {titre}\")\n",
    "\n"
   ]
  },
  {
   "cell_type": "markdown",
   "id": "586036ab",
   "metadata": {},
   "source": [
    "- Reprendre la requête précédente et déterminer tous les résumés en français (indice : penser à l’utilisation de méthodes)"
   ]
  },
  {
   "cell_type": "code",
   "execution_count": 4,
   "id": "4a25636a",
   "metadata": {},
   "outputs": [
    {
     "name": "stdout",
     "output_type": "stream",
     "text": [
      "Titre : أرمجدون (فيلم)\n",
      "Résumé : Armageddon est un film catastrophe américain réalisé par Michael Bay et sorti en 1998. Le film reçoit des critiques plutôt négatives dans la presse, il rencontre un immense succès auprès du public. Il est le 2e meilleur film au box-office nord-américain de 1998. Il reçoit par ailleurs quatre nominations aux Oscars 1999.\n",
      "\n",
      "Titre : Armageddon (pel·lícula)\n",
      "Résumé : Armageddon est un film catastrophe américain réalisé par Michael Bay et sorti en 1998. Le film reçoit des critiques plutôt négatives dans la presse, il rencontre un immense succès auprès du public. Il est le 2e meilleur film au box-office nord-américain de 1998. Il reçoit par ailleurs quatre nominations aux Oscars 1999.\n",
      "\n",
      "Titre : Armageddon (film, 1998)\n",
      "Résumé : Armageddon est un film catastrophe américain réalisé par Michael Bay et sorti en 1998. Le film reçoit des critiques plutôt négatives dans la presse, il rencontre un immense succès auprès du public. Il est le 2e meilleur film au box-office nord-américain de 1998. Il reçoit par ailleurs quatre nominations aux Oscars 1999.\n",
      "\n",
      "Titre : Armageddon – Das jüngste Gericht\n",
      "Résumé : Armageddon est un film catastrophe américain réalisé par Michael Bay et sorti en 1998. Le film reçoit des critiques plutôt négatives dans la presse, il rencontre un immense succès auprès du public. Il est le 2e meilleur film au box-office nord-américain de 1998. Il reçoit par ailleurs quatre nominations aux Oscars 1999.\n",
      "\n",
      "Titre : Αρμαγεδδών (ταινία, 1998)\n",
      "Résumé : Armageddon est un film catastrophe américain réalisé par Michael Bay et sorti en 1998. Le film reçoit des critiques plutôt négatives dans la presse, il rencontre un immense succès auprès du public. Il est le 2e meilleur film au box-office nord-américain de 1998. Il reçoit par ailleurs quatre nominations aux Oscars 1999.\n",
      "\n",
      "Titre : Armageddon (1998 film)\n",
      "Résumé : Armageddon est un film catastrophe américain réalisé par Michael Bay et sorti en 1998. Le film reçoit des critiques plutôt négatives dans la presse, il rencontre un immense succès auprès du public. Il est le 2e meilleur film au box-office nord-américain de 1998. Il reçoit par ailleurs quatre nominations aux Oscars 1999.\n",
      "\n",
      "Titre : Armageddon (película)\n",
      "Résumé : Armageddon est un film catastrophe américain réalisé par Michael Bay et sorti en 1998. Le film reçoit des critiques plutôt négatives dans la presse, il rencontre un immense succès auprès du public. Il est le 2e meilleur film au box-office nord-américain de 1998. Il reçoit par ailleurs quatre nominations aux Oscars 1999.\n",
      "\n",
      "Titre : Armageddon\n",
      "Résumé : Armageddon est un film catastrophe américain réalisé par Michael Bay et sorti en 1998. Le film reçoit des critiques plutôt négatives dans la presse, il rencontre un immense succès auprès du public. Il est le 2e meilleur film au box-office nord-américain de 1998. Il reçoit par ailleurs quatre nominations aux Oscars 1999.\n",
      "\n",
      "Titre : Armageddon (film, 1998)\n",
      "Résumé : Armageddon est un film catastrophe américain réalisé par Michael Bay et sorti en 1998. Le film reçoit des critiques plutôt négatives dans la presse, il rencontre un immense succès auprès du public. Il est le 2e meilleur film au box-office nord-américain de 1998. Il reçoit par ailleurs quatre nominations aux Oscars 1999.\n",
      "\n",
      "Titre : Armageddon (film 1998)\n",
      "Résumé : Armageddon est un film catastrophe américain réalisé par Michael Bay et sorti en 1998. Le film reçoit des critiques plutôt négatives dans la presse, il rencontre un immense succès auprès du public. Il est le 2e meilleur film au box-office nord-américain de 1998. Il reçoit par ailleurs quatre nominations aux Oscars 1999.\n",
      "\n",
      "Titre : Armageddon - Giudizio finale\n",
      "Résumé : Armageddon est un film catastrophe américain réalisé par Michael Bay et sorti en 1998. Le film reçoit des critiques plutôt négatives dans la presse, il rencontre un immense succès auprès du public. Il est le 2e meilleur film au box-office nord-américain de 1998. Il reçoit par ailleurs quatre nominations aux Oscars 1999.\n",
      "\n",
      "Titre : 아마겟돈 (1998년 영화)\n",
      "Résumé : Armageddon est un film catastrophe américain réalisé par Michael Bay et sorti en 1998. Le film reçoit des critiques plutôt négatives dans la presse, il rencontre un immense succès auprès du public. Il est le 2e meilleur film au box-office nord-américain de 1998. Il reçoit par ailleurs quatre nominations aux Oscars 1999.\n",
      "\n",
      "Titre : アルマゲドン (映画)\n",
      "Résumé : Armageddon est un film catastrophe américain réalisé par Michael Bay et sorti en 1998. Le film reçoit des critiques plutôt négatives dans la presse, il rencontre un immense succès auprès du public. Il est le 2e meilleur film au box-office nord-américain de 1998. Il reçoit par ailleurs quatre nominations aux Oscars 1999.\n",
      "\n",
      "Titre : Armageddon (film)\n",
      "Résumé : Armageddon est un film catastrophe américain réalisé par Michael Bay et sorti en 1998. Le film reçoit des critiques plutôt négatives dans la presse, il rencontre un immense succès auprès du public. Il est le 2e meilleur film au box-office nord-américain de 1998. Il reçoit par ailleurs quatre nominations aux Oscars 1999.\n",
      "\n",
      "Titre : Armageddon (film)\n",
      "Résumé : Armageddon est un film catastrophe américain réalisé par Michael Bay et sorti en 1998. Le film reçoit des critiques plutôt négatives dans la presse, il rencontre un immense succès auprès du public. Il est le 2e meilleur film au box-office nord-américain de 1998. Il reçoit par ailleurs quatre nominations aux Oscars 1999.\n",
      "\n",
      "Titre : Armageddon (filme)\n",
      "Résumé : Armageddon est un film catastrophe américain réalisé par Michael Bay et sorti en 1998. Le film reçoit des critiques plutôt négatives dans la presse, il rencontre un immense succès auprès du public. Il est le 2e meilleur film au box-office nord-américain de 1998. Il reçoit par ailleurs quatre nominations aux Oscars 1999.\n",
      "\n",
      "Titre : Армагеддон (фильм, 1998)\n",
      "Résumé : Armageddon est un film catastrophe américain réalisé par Michael Bay et sorti en 1998. Le film reçoit des critiques plutôt négatives dans la presse, il rencontre un immense succès auprès du public. Il est le 2e meilleur film au box-office nord-américain de 1998. Il reçoit par ailleurs quatre nominations aux Oscars 1999.\n",
      "\n",
      "Titre : Armageddon (film)\n",
      "Résumé : Armageddon est un film catastrophe américain réalisé par Michael Bay et sorti en 1998. Le film reçoit des critiques plutôt négatives dans la presse, il rencontre un immense succès auprès du public. Il est le 2e meilleur film au box-office nord-américain de 1998. Il reçoit par ailleurs quatre nominations aux Oscars 1999.\n",
      "\n",
      "Titre : Армагеддон (фільм, 1998)\n",
      "Résumé : Armageddon est un film catastrophe américain réalisé par Michael Bay et sorti en 1998. Le film reçoit des critiques plutôt négatives dans la presse, il rencontre un immense succès auprès du public. Il est le 2e meilleur film au box-office nord-américain de 1998. Il reçoit par ailleurs quatre nominations aux Oscars 1999.\n",
      "\n",
      "Titre : 絕世天劫\n",
      "Résumé : Armageddon est un film catastrophe américain réalisé par Michael Bay et sorti en 1998. Le film reçoit des critiques plutôt négatives dans la presse, il rencontre un immense succès auprès du public. Il est le 2e meilleur film au box-office nord-américain de 1998. Il reçoit par ailleurs quatre nominations aux Oscars 1999.\n",
      "\n"
     ]
    }
   ],
   "source": [
    "from SPARQLWrapper import SPARQLWrapper, JSON\n",
    "\n",
    "# URL du point d'accès SparQL de la DBpedia\n",
    "dbpedia_sparql_endpoint = \"http://dbpedia.org/sparql\"\n",
    "\n",
    "# Création d'une instance de SPARQLWrapper \n",
    "sparql = SPARQLWrapper(dbpedia_sparql_endpoint)\n",
    "\n",
    "# Requête SPARQL pour les résumés des films \"Armageddon\"\n",
    "query = \"\"\"\n",
    "PREFIX dbpedia-owl: <http://dbpedia.org/ontology/>\n",
    "PREFIX rdfs: <http://www.w3.org/2000/01/rdf-schema#>\n",
    "PREFIX dbo: <http://dbpedia.org/ontology/>\n",
    "\n",
    "\n",
    "SELECT  ?resume ?titre\n",
    "WHERE { <http://dbpedia.org/resource/Armageddon_(1998_film)> rdfs:label ?titre; dbo:abstract ?resume. \n",
    "        FILTER (lang(?resume) = 'fr')\n",
    "\n",
    "}\n",
    "LIMIT 100\n",
    "\"\"\"\n",
    "\n",
    "# Format de résultat en JSON\n",
    "sparql.setReturnFormat(JSON)\n",
    "\n",
    "# Exécution de la requête  \n",
    "sparql.setQuery(query)\n",
    "results = sparql.query().convert()\n",
    "\n",
    "# Affichage des résultats\n",
    "for result in results[\"results\"][\"bindings\"]:\n",
    "    titre = result[\"titre\"][\"value\"]\n",
    "    resume = result[\"resume\"][\"value\"]\n",
    "    \n",
    "    print(f\"Titre : {titre}\")\n",
    "    print(f\"Résumé : {resume}\\n\")\n"
   ]
  },
  {
   "cell_type": "markdown",
   "id": "9b4d8bff",
   "metadata": {},
   "source": [
    "- Déterminer les acteurs du film triés par ordre descendant"
   ]
  },
  {
   "cell_type": "code",
   "execution_count": 5,
   "id": "6d5fae75",
   "metadata": {},
   "outputs": [
    {
     "name": "stdout",
     "output_type": "stream",
     "text": [
      "actor : http://dbpedia.org/resource/Ben_Affleck\n",
      "actor : http://dbpedia.org/resource/Billy_Bob_Thornton\n",
      "actor : http://dbpedia.org/resource/Bruce_Willis\n",
      "actor : http://dbpedia.org/resource/Keith_David\n",
      "actor : http://dbpedia.org/resource/Liv_Tyler\n",
      "actor : http://dbpedia.org/resource/Peter_Stormare\n",
      "actor : http://dbpedia.org/resource/Steve_Buscemi\n",
      "actor : http://dbpedia.org/resource/Will_Patton\n"
     ]
    }
   ],
   "source": [
    "from SPARQLWrapper import SPARQLWrapper, JSON\n",
    "\n",
    "# URL du point d'accès SparQL de la DBpedia\n",
    "dbpedia_sparql_endpoint = \"http://dbpedia.org/sparql\"\n",
    "\n",
    "# Création d'une instance de SPARQLWrapper \n",
    "sparql = SPARQLWrapper(dbpedia_sparql_endpoint)\n",
    "\n",
    "# Requête SPARQL pour les résumés des films \"Armageddon\"\n",
    "query = \"\"\"\n",
    "PREFIX dbpedia-owl: <http://dbpedia.org/ontology/>\n",
    "PREFIX rdfs: <http://www.w3.org/2000/01/rdf-schema#>\n",
    "PREFIX dbo: <http://dbpedia.org/ontology/>\n",
    "\n",
    "\n",
    "SELECT  ?actor\n",
    "WHERE { <http://dbpedia.org/resource/Armageddon_(1998_film)> dbo:starring ?actor.\n",
    "    \n",
    "}\n",
    "    ORDER BY ?actor\n",
    "LIMIT 100\n",
    "\"\"\"\n",
    "\n",
    "# Format de résultat en JSON\n",
    "sparql.setReturnFormat(JSON)\n",
    "\n",
    "# Exécution de la requête  \n",
    "sparql.setQuery(query)\n",
    "results = sparql.query().convert()\n",
    "\n",
    "# Affichage des résultats\n",
    "for result in results[\"results\"][\"bindings\"]:\n",
    "    actor = result[\"actor\"][\"value\"]\n",
    "   # resume = result[\"resume\"][\"value\"]\n",
    "    \n",
    "    print(f\"actor : {actor}\")\n",
    "    #print(f\"Résumé : {resume}\\n\")\n"
   ]
  },
  {
   "cell_type": "markdown",
   "id": "178b7e89",
   "metadata": {},
   "source": [
    "- Compléter la requête précédente en ajoutant le lieu de naissance de chaque acteur. "
   ]
  },
  {
   "cell_type": "code",
   "execution_count": 6,
   "id": "982b88fe",
   "metadata": {},
   "outputs": [
    {
     "name": "stdout",
     "output_type": "stream",
     "text": [
      "name : Benjamin Géza Affleck-Boldt\n",
      "place: Berkeley, California, U.S.\n",
      "date : 1972-08-15\n",
      "\n",
      "name : Liv Rundgren\n",
      "place: New York City, U.S.\n",
      "date : 1977-07-01\n",
      "\n",
      "name : Rolf Peter Ingvar Storm\n",
      "place: Kumla, Sweden\n",
      "date : 1953-08-27\n",
      "\n",
      "name : Steven Vincent Buscemi\n",
      "place: New York City, U.S.\n",
      "date : 1957-12-13\n",
      "\n",
      "name : Walter Bruce Willis\n",
      "place: http://dbpedia.org/resource/Idar-Oberstein\n",
      "date : 1955-03-19\n",
      "\n",
      "name : Walter Bruce Willis\n",
      "place: http://dbpedia.org/resource/West_Germany\n",
      "date : 1955-03-19\n",
      "\n",
      "name : William Rankin Patton\n",
      "place: Charleston, South Carolina, U.S.\n",
      "date : 1954-06-14\n",
      "\n"
     ]
    }
   ],
   "source": [
    "from SPARQLWrapper import SPARQLWrapper, JSON\n",
    "\n",
    "# URL du point d'accès SparQL de la DBpedia\n",
    "dbpedia_sparql_endpoint = \"http://dbpedia.org/sparql\"\n",
    "\n",
    "# Création d'une instance de SPARQLWrapper \n",
    "sparql = SPARQLWrapper(dbpedia_sparql_endpoint)\n",
    "\n",
    "# Requête SPARQL pour les résumés des films \"Armageddon\"\n",
    "query = \"\"\"\n",
    "PREFIX dbpedia-owl: <http://dbpedia.org/ontology/>\n",
    "PREFIX rdfs: <http://www.w3.org/2000/01/rdf-schema#>\n",
    "PREFIX dbo: <http://dbpedia.org/ontology/>\n",
    "\n",
    "\n",
    "SELECT  ?name ?date ?place\n",
    "WHERE { <http://dbpedia.org/resource/Armageddon_(1998_film)> dbo:starring ?actor. \n",
    "        ?actor dbo:birthName ?name.\n",
    "        ?actor dbo:birthDate ?date.\n",
    "        ?actor dbp:birthPlace ?place\n",
    "        \n",
    "}\n",
    "ORDER BY ?name\n",
    "LIMIT 100\n",
    "\"\"\"\n",
    "\n",
    "# Format de résultat en JSON\n",
    "sparql.setReturnFormat(JSON)\n",
    "\n",
    "# Exécution de la requête  \n",
    "sparql.setQuery(query)\n",
    "results = sparql.query().convert()\n",
    "\n",
    "# Affichage des résultats\n",
    "for result in results[\"results\"][\"bindings\"]:\n",
    "    name = result[\"name\"][\"value\"]\n",
    "    date = result[\"date\"][\"value\"]\n",
    "    place = result[\"place\"][\"value\"]\n",
    "    print(f\"name : {name}\")\n",
    "    print(f\"place: {place}\")\n",
    "    print(f\"date : {date}\\n\")\n"
   ]
  },
  {
   "cell_type": "markdown",
   "id": "3730b1b3",
   "metadata": {},
   "source": [
    "- Déterminer le nombre d’acteurs nés avant 1956"
   ]
  },
  {
   "cell_type": "code",
   "execution_count": 7,
   "id": "20073956",
   "metadata": {},
   "outputs": [
    {
     "name": "stdout",
     "output_type": "stream",
     "text": [
      "Le nombre d'actors qui sont né avant 1956 est : 3\n"
     ]
    }
   ],
   "source": [
    "# from SPARQLWrapper import SPARQLWrapper, JSON\n",
    "\n",
    "# URL du point d'accès SparQL de la DBpedia\n",
    "dbpedia_sparql_endpoint = \"http://dbpedia.org/sparql\"\n",
    "\n",
    "# Création d'une instance de SPARQLWrapper \n",
    "sparql = SPARQLWrapper(dbpedia_sparql_endpoint)\n",
    "\n",
    "# Requête SPARQL pour les résumés des films \"Armageddon\"\n",
    "query = \"\"\"\n",
    "PREFIX dbpedia-owl: <http://dbpedia.org/ontology/>\n",
    "PREFIX rdfs: <http://www.w3.org/2000/01/rdf-schema#>\n",
    "PREFIX dbo: <http://dbpedia.org/ontology/>\n",
    "\n",
    "\n",
    "SELECT  ?name ?date\n",
    "WHERE { <http://dbpedia.org/resource/Armageddon_(1998_film)> dbo:starring ?actor. \n",
    "        ?actor dbo:birthName ?name.\n",
    "        ?actor dbo:birthDate ?date.\n",
    "        FILTER(?date < \"1956-01-01\"^^xsd:date)     \n",
    "        \n",
    "}\n",
    "ORDER BY ?name\n",
    "LIMIT 100\n",
    "\"\"\"\n",
    "\n",
    "# Format de résultat en JSON\n",
    "sparql.setReturnFormat(JSON)\n",
    "\n",
    "# Exécution de la requête  \n",
    "sparql.setQuery(query)\n",
    "results = sparql.query().convert()\n",
    "\n",
    "count = len(results[\"results\"][\"bindings\"])\n",
    "\n",
    "print(\"Le nombre d'actors qui sont né avant 1956 est :\", count)\n"
   ]
  },
  {
   "cell_type": "markdown",
   "id": "1f8161a2",
   "metadata": {},
   "source": [
    "- En interrogeant l'ontologie Films (<http://dbpedia.org/ontology/Film> ),retourner les films sortis en 2022 et leur nombre"
   ]
  },
  {
   "cell_type": "code",
   "execution_count": 9,
   "id": "3c8a78fa",
   "metadata": {},
   "outputs": [
    {
     "name": "stdout",
     "output_type": "stream",
     "text": [
      "Le nombre de films sortis en 2022 est : 144\n"
     ]
    }
   ],
   "source": [
    "from SPARQLWrapper import SPARQLWrapper, JSON\n",
    "\n",
    "# URL du point d'accès SparQL de la DBpedia\n",
    "dbpedia_sparql_endpoint = \"http://dbpedia.org/sparql\"\n",
    "\n",
    "# Création d'une instance de SPARQLWrapper \n",
    "sparql = SPARQLWrapper(dbpedia_sparql_endpoint)\n",
    "'''\n",
    "PREFIX dbpedia-owl: <http://dbpedia.org/ontology/>\n",
    "PREFIX rdfs: <http://www.w3.org/2000/01/rdf-schema#>\n",
    "PREFIX dbo: <http://dbpedia.org/ontology/>\n",
    "PREFIX xsd: <http://www.w3.org/2001/XMLSchema#>\n",
    "\n",
    "SELECT ?film ?releaseDate\n",
    "WHERE {\n",
    "  ?film rdf:type dbpedia-owl:Film ;\n",
    "        dbo:releaseDate ?releaseDate .\n",
    "  FILTER (xsd:integer(str(?releaseDate)) = 2022)\n",
    "}\n",
    "'''\n",
    "\n",
    "# Requête SPARQL pour les résumés des films \"Armageddon\"\n",
    "query = \"\"\"\n",
    "PREFIX dbpedia-owl: <http://dbpedia.org/ontology/>\n",
    "PREFIX rdfs: <http://www.w3.org/2000/01/rdf-schema#>\n",
    "PREFIX dbo: <http://dbpedia.org/ontology/>\n",
    "PREFIX xsd: <http://www.w3.org/2001/XMLSchema#>\n",
    "\n",
    "SELECT ?film ?releaseDate\n",
    "WHERE {\n",
    "  ?film a dbpedia-owl:Film ;\n",
    "        dbo:releaseDate ?releaseDate .\n",
    "  FILTER (xsd:integer(SUBSTR(str(?releaseDate), 1, 4)) = 2022)\n",
    "}\n",
    "\n",
    "\"\"\"\n",
    "\n",
    "# Format de résultat en JSON\n",
    "sparql.setReturnFormat(JSON)\n",
    "\n",
    "# Exécution de la requête  \n",
    "sparql.setQuery(query)\n",
    "results = sparql.query().convert()\n",
    "\n",
    "# Nombre de films sortis en 2022\n",
    "count = len(results[\"results\"][\"bindings\"])\n",
    "\n",
    "print(\"Le nombre de films sortis en 2022 est :\", count)\n"
   ]
  },
  {
   "cell_type": "markdown",
   "id": "e48e0319",
   "metadata": {},
   "source": [
    "- Déterminer tous les acteurs nés à Paris ou Londres."
   ]
  },
  {
   "cell_type": "code",
   "execution_count": 10,
   "id": "6dad8939",
   "metadata": {},
   "outputs": [
    {
     "name": "stdout",
     "output_type": "stream",
     "text": [
      "Le nombre d'acteurs qui sont nés à Paris ou à Londres : 340\n"
     ]
    }
   ],
   "source": [
    "from SPARQLWrapper import SPARQLWrapper, JSON\n",
    "\n",
    "# URL du point d'accès SparQL de la DBpedia\n",
    "dbpedia_sparql_endpoint = \"http://dbpedia.org/sparql\"\n",
    "\n",
    "# Création d'une instance de SPARQLWrapper \n",
    "sparql = SPARQLWrapper(dbpedia_sparql_endpoint)\n",
    "\n",
    "query = \"\"\"\n",
    "  PREFIX dbo: <http://dbpedia.org/ontology/>\n",
    "  PREFIX rdfs: <http://www.w3.org/2000/01/rdf-schema#>\n",
    "\n",
    "  SELECT ?actor ?actorName ?birthPlace\n",
    "  WHERE {\n",
    "  ?actor rdf:type dbo:Actor ;\n",
    "          rdfs:label ?actorName ;\n",
    "          dbo:birthPlace ?birthPlace .\n",
    "\n",
    "  FILTER (LANG(?actorName) = \"en\" && (?birthPlace = <http://dbpedia.org/resource/Paris> || ?birthPlace = <http://dbpedia.org/resource/London>))\n",
    "}\n",
    "\n",
    "\"\"\"\n",
    "\n",
    "# Format de résultat en JSON\n",
    "sparql.setReturnFormat(JSON)\n",
    "\n",
    "# Exécution de la requête  \n",
    "sparql.setQuery(query)\n",
    "results = sparql.query().convert()\n",
    "\n",
    "# Nombre d'acteurs nés à Paris ou Londres\n",
    "count = len(results[\"results\"][\"bindings\"])\n",
    "\n",
    "print(\"Le nombre d'acteurs qui sont nés à Paris ou à Londres :\", count)\n"
   ]
  },
  {
   "cell_type": "markdown",
   "id": "2a79b813",
   "metadata": {},
   "source": [
    "- Récupérer les résultats en csv"
   ]
  },
  {
   "cell_type": "raw",
   "id": "839c3dda",
   "metadata": {},
   "source": []
  },
  {
   "cell_type": "markdown",
   "id": "62614b09",
   "metadata": {},
   "source": [
    "- Combien d'acteurs sont nés à Paris?"
   ]
  },
  {
   "cell_type": "raw",
   "id": "9e0a0193",
   "metadata": {},
   "source": []
  }
 ],
 "metadata": {
  "kernelspec": {
   "display_name": "Python 3 (ipykernel)",
   "language": "python",
   "name": "python3"
  },
  "language_info": {
   "codemirror_mode": {
    "name": "ipython",
    "version": 3
   },
   "file_extension": ".py",
   "mimetype": "text/x-python",
   "name": "python",
   "nbconvert_exporter": "python",
   "pygments_lexer": "ipython3",
   "version": "3.10.13"
  }
 },
 "nbformat": 4,
 "nbformat_minor": 5
}
