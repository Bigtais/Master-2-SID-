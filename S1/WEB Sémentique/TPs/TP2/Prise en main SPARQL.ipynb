{
 "cells": [
  {
   "cell_type": "markdown",
   "id": "52cca5f5",
   "metadata": {},
   "source": [
    "# I.\tPrise en main\n",
    " \n",
    "\n",
    "1. Données DBPedia\n",
    "    - HTML : http://dbpedia.org\n",
    "    - SPARQL endpoint : http://dbpedia.org/sparql\n",
    "    - Téléchargements des données RDF : http://wiki.dbpedia.org/Datasets\n",
    "    - Consulter les classes : http://mappings.dbpedia.org/server/ontology/classes/\n",
    "    - Chapitre francophone de DBpedia : http://fr.dbpedia.org\n",
    "    - Accès aux différentes classes : http://mappings.dbpedia.org/server/ontology/classes/\n",
    "    - Exemple de classe : Work\n",
    "        - Au format HTML : http://dbpedia.org/ontology/Work\n",
    "        - Au format RDF : http://dbpedia.org/data3/Work.ntriples\n",
    "\n",
    "    - Vous pouvez consulter les différentes classes de l’ontologie DBpedia : http://mappings.dbpedia.org/server/ontology/classes/\n",
    "    - Vous allez prendre un exemple de dbpedia sur les oeuvres. Vous allez sur le lien suivant : http://dbpedia.org/ontology/Work.\n",
    "\n",
    "2. Import des bibliothèques : Vous aller utiliser des bibliothèques telles que SPARQLWrapper pour interagir avec des points d'accès SparQL à partir de votre code Python.\n"
   ]
  },
  {
   "cell_type": "raw",
   "id": "9c431a65",
   "metadata": {},
   "source": [
    "# pip install SPARQLWrapper"
   ]
  },
  {
   "cell_type": "markdown",
   "id": "5e466bd3",
   "metadata": {},
   "source": [
    "3. Les préfixes les plus courants que DBpedia positionne par défaut :\n",
    "    - rdf: http://www.w3.org/1999/02/22-rdf-syntax-ns#\n",
    "    - rdfs: http://www.w3.org/2000/01/rdf-schema#\n",
    "    - owl: http://www.w3.org/2002/07/owl#\n",
    "    - xsd: http://www.w3.org/2001/XMLSchema#\n",
    "    - dc: http://purl.org/dc/elements/1.1/\n",
    "    - foaf: http://xmlns.com/foaf/0.1/\n",
    "    - dbpedia: http://dbpedia.org/resource\n",
    "    - dbpedia-owl: http://dbpedia.org/ontology/\n",
    "    - dbpprop: http://dbpedia.org/property/\n",
    "    - dbr: <http://dbpedia.org/resource/>\n",
    "    - dbo: <http://dbpedia.org/ontology/>\n"
   ]
  },
  {
   "cell_type": "markdown",
   "id": "4e737ac0",
   "metadata": {},
   "source": [
    "4. Exemple de requête: \n",
    "- Vous allez parcourir les propriétés de la ressource : http://dbpedia.org/resource/Armageddon_(1998_film).\n",
    "- Tester l'exemple suivant et expliquer ce que retourne la requête "
   ]
  },
  {
   "cell_type": "raw",
   "id": "def97b1f",
   "metadata": {},
   "source": [
    "from SPARQLWrapper import SPARQLWrapper, JSON\n",
    "\n",
    "# URL du point d'accès SparQL de la DBpedia\n",
    "dbpedia_sparql_endpoint = \"http://dbpedia.org/sparql\"\n",
    "\n",
    "# Création d'une instance de SPARQLWrapper \n",
    "sparql = SPARQLWrapper(dbpedia_sparql_endpoint)\n",
    "\n",
    "# Requête SPARQL\n",
    "query = \"\"\"\n",
    "PREFIX rdf: <http://www.w3.org/1999/02/22-rdf-syntax-ns#>\n",
    "PREFIX rdfs: <http://www.w3.org/2000/01/rdf-schema#>\n",
    "\n",
    "\n",
    "SELECT ?titre\n",
    "WHERE {  <http://dbpedia.org/resource/Armageddon_(1998_film)> rdfs:label ?titre. \n",
    "\n",
    "  }\n",
    "LIMIT 100\n",
    "\"\"\"\n",
    "\n",
    "# Format de résultat en JSON\n",
    "sparql.setReturnFormat(JSON)\n",
    "\n",
    "\n",
    "# Exécution de la requête  \n",
    "sparql.setQuery(query)\n",
    "results = sparql.query().convert()\n",
    "\n",
    "# Affichage des résultats\n",
    "for result in results[\"results\"][\"bindings\"]:\n",
    "    titre = result[\"titre\"][\"value\"]\n",
    "    \n",
    "    \n",
    "    print(f\"  titre : {titre}\")\n",
    "\n"
   ]
  },
  {
   "cell_type": "markdown",
   "id": "4250599f",
   "metadata": {},
   "source": [
    "# II. Requêtes SPARQL"
   ]
  },
  {
   "cell_type": "markdown",
   "id": "45119fd0",
   "metadata": {},
   "source": [
    "- Modifier la requête afin de déterminer les résumés des différents films Armageddon"
   ]
  },
  {
   "cell_type": "raw",
   "id": "9761bebf",
   "metadata": {},
   "source": []
  },
  {
   "cell_type": "markdown",
   "id": "586036ab",
   "metadata": {},
   "source": [
    "- Reprendre la requête précédente et déterminer tous les résumés en français (indice : penser à l’utilisation de méthodes)"
   ]
  },
  {
   "cell_type": "raw",
   "id": "49283ef5",
   "metadata": {},
   "source": []
  },
  {
   "cell_type": "markdown",
   "id": "9b4d8bff",
   "metadata": {},
   "source": [
    "- Déterminer les acteurs du film triés par ordre descendant"
   ]
  },
  {
   "cell_type": "raw",
   "id": "2be64a92",
   "metadata": {},
   "source": []
  },
  {
   "cell_type": "markdown",
   "id": "178b7e89",
   "metadata": {},
   "source": [
    "- Compléter la requête précédente en ajoutant le lieu de naissance de chaque acteur. "
   ]
  },
  {
   "cell_type": "raw",
   "id": "2e93cee9",
   "metadata": {},
   "source": []
  },
  {
   "cell_type": "markdown",
   "id": "3730b1b3",
   "metadata": {},
   "source": [
    "- Déterminer le nombre d’acteurs nés avant 1956"
   ]
  },
  {
   "cell_type": "raw",
   "id": "4a8229ff",
   "metadata": {},
   "source": []
  },
  {
   "cell_type": "markdown",
   "id": "1f8161a2",
   "metadata": {},
   "source": [
    "- En interrogeant l'ontologie Films (<http://dbpedia.org/ontology/Film> ),retourner les films sortis en 2022 et leur nombre"
   ]
  },
  {
   "cell_type": "raw",
   "id": "3c8a78fa",
   "metadata": {},
   "source": []
  },
  {
   "cell_type": "markdown",
   "id": "e48e0319",
   "metadata": {},
   "source": [
    "- Déterminer tous les acteurs nés à Paris ou Londres."
   ]
  },
  {
   "cell_type": "raw",
   "id": "6dad8939",
   "metadata": {},
   "source": []
  },
  {
   "cell_type": "markdown",
   "id": "2a79b813",
   "metadata": {},
   "source": [
    "- Récupérer les résultats en csv"
   ]
  },
  {
   "cell_type": "raw",
   "id": "839c3dda",
   "metadata": {},
   "source": []
  },
  {
   "cell_type": "markdown",
   "id": "62614b09",
   "metadata": {},
   "source": [
    "- Combien d'acteurs sont nés à Paris?"
   ]
  },
  {
   "cell_type": "raw",
   "id": "9e0a0193",
   "metadata": {},
   "source": []
  }
 ],
 "metadata": {
  "kernelspec": {
   "display_name": "Python 3 (ipykernel)",
   "language": "python",
   "name": "python3"
  },
  "language_info": {
   "codemirror_mode": {
    "name": "ipython",
    "version": 3
   },
   "file_extension": ".py",
   "mimetype": "text/x-python",
   "name": "python",
   "nbconvert_exporter": "python",
   "pygments_lexer": "ipython3",
   "version": "3.10.9"
  }
 },
 "nbformat": 4,
 "nbformat_minor": 5
}
