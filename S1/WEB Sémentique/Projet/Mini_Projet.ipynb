{
 "cells": [
  {
   "cell_type": "markdown",
   "id": "3b8f4c1f",
   "metadata": {},
   "source": [
    "# Projet : Extraction et Recommandation de films avec rdflib et SPARQL\n",
    "\n",
    "## Objectif\n",
    "L’objectif de ce mini-projet est l’extraction des données de la base de données DBPedia en utilisant le langage de requêtes SPARQL afin d'alimenter la base de données de gestion de films que vous avez créé au premier TP, l’analyse de ces données et la recommansation de films."
   ]
  },
  {
   "cell_type": "markdown",
   "id": "8af27ca9",
   "metadata": {},
   "source": [
    "# Description\n",
    "\n",
    "Vous allez créer un système de recommandation de films basé sur des données RDF qui stockent des informations sur les films, les utilisateurs et leurs préférences cinématographiques.\n",
    "\n",
    "Les étapes du projet sont comme suit :"
   ]
  },
  {
   "cell_type": "markdown",
   "id": "a83e1264",
   "metadata": {},
   "source": [
    "1.  Extraction des données\n",
    "\n",
    "    - Vous utiliserez Rdflib pour accéder aux données et vous effectuerez des requêtes SPARQL pour les extraire. Vous êtes libres dans le choix et la taille des données que vous allez extraire. Le jeu de données doit néanmoins être représentatif pour pouvoir fournir des recommandations précises. \n",
    "    - Transformer les données en triplets RDF :  Vous allez transformer ces résultats en triplets RDF avant de les ajouter à votre graphe RDF existant. \n",
    "    - Ajouter les données au graphe existant : Utilisez la méthode g.add() de votre graphe RDF, que vous avez créé au premier TP, pour ajouter les triplets RDF représentant les données DBpedia que vous avez transformées. "
   ]
  },
  {
   "cell_type": "markdown",
   "id": "f22c45ed",
   "metadata": {},
   "source": [
    "\n"
   ]
  },
  {
   "cell_type": "markdown",
   "id": "0cdd6862",
   "metadata": {},
   "source": [
    "2. Prétraitement des données : Nettoyez et traitez les données extraites pour supprimer les doublons, gérer les valeurs manquantes et normaliser."
   ]
  },
  {
   "cell_type": "code",
   "execution_count": null,
   "id": "7c849f60",
   "metadata": {},
   "outputs": [],
   "source": []
  },
  {
   "cell_type": "markdown",
   "id": "46be1e6e",
   "metadata": {},
   "source": [
    "3. Analyse exploratoire des données : \n",
    "- Créer des graphiques permettant de visualiser  la distribution des notes des films dans votre base de données.\n",
    "- Créer des graphiques pour montrer les films les mieux notés\n",
    "- Créer un nuage de points pour représenter la relation entre les caractéristiques."
   ]
  },
  {
   "cell_type": "code",
   "execution_count": null,
   "id": "abeb0297",
   "metadata": {},
   "outputs": [],
   "source": []
  },
  {
   "cell_type": "markdown",
   "id": "872ce5da",
   "metadata": {},
   "source": [
    "4. Identification des films les plus populaires : Identifiez les films les plus populaires par genre"
   ]
  },
  {
   "cell_type": "code",
   "execution_count": null,
   "id": "8677851a",
   "metadata": {},
   "outputs": [],
   "source": []
  },
  {
   "cell_type": "markdown",
   "id": "f2fbe967",
   "metadata": {},
   "source": [
    "5. Système de Recommandation : Utilisez SPARQL pour interroger le graphe RDF afin de créer un système de recommandation de films. Vous pouvez envisager différentes approches de recommandation, telles que la recommandation collaborative (en fonction des évaluations d'utilisateurs similaires) ou la recommandation basée sur le contenu (en fonction des genres, des acteurs, etc.) ou la recommandation basée sur les connaissances"
   ]
  },
  {
   "cell_type": "code",
   "execution_count": null,
   "id": "149b554b",
   "metadata": {},
   "outputs": [],
   "source": []
  },
  {
   "cell_type": "markdown",
   "id": "e6be6488",
   "metadata": {},
   "source": [
    "6. Calcul des Recommandations : Utilisez SPARQL pour générer des requêtes de recommandation en fonction des préférences de l'utilisateur. Vous pouvez également utiliser des algorithmes d'apprentissage automatique pour améliorer les recommandations."
   ]
  },
  {
   "cell_type": "code",
   "execution_count": null,
   "id": "e11cd2fb",
   "metadata": {},
   "outputs": [],
   "source": []
  },
  {
   "cell_type": "markdown",
   "id": "a6a4f880",
   "metadata": {},
   "source": [
    "7. Évaluation : Évaluez la qualité de vos recommandations en utilisant des mesures telles que la précision, le rappel, et la moyenne des évaluations des utilisateurs."
   ]
  },
  {
   "cell_type": "code",
   "execution_count": null,
   "id": "3b825d4f",
   "metadata": {},
   "outputs": [],
   "source": []
  },
  {
   "cell_type": "markdown",
   "id": "0ce39a41",
   "metadata": {},
   "source": [
    "8. Visualisation : Créez des visualisations graphiques pour présenter les recommandations de films et les statistiques sur les utilisateurs et les films."
   ]
  },
  {
   "cell_type": "code",
   "execution_count": null,
   "id": "d53de2a9",
   "metadata": {},
   "outputs": [],
   "source": []
  },
  {
   "cell_type": "markdown",
   "id": "0d8b3fce",
   "metadata": {},
   "source": [
    "9. Rapport : Vous allez rédiger un rapport de 5 pages max décrivant la modélisation RDF, les requêtes SPARQL, l'algorithme de recommandation et les résultats de l'évaluation. "
   ]
  },
  {
   "cell_type": "code",
   "execution_count": null,
   "id": "fcb8e27f",
   "metadata": {},
   "outputs": [],
   "source": []
  }
 ],
 "metadata": {
  "kernelspec": {
   "display_name": "Python 3 (ipykernel)",
   "language": "python",
   "name": "python3"
  },
  "language_info": {
   "codemirror_mode": {
    "name": "ipython",
    "version": 3
   },
   "file_extension": ".py",
   "mimetype": "text/x-python",
   "name": "python",
   "nbconvert_exporter": "python",
   "pygments_lexer": "ipython3",
   "version": "3.10.9"
  }
 },
 "nbformat": 4,
 "nbformat_minor": 5
}
